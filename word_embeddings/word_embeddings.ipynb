{
 "cells": [
  {
   "cell_type": "markdown",
   "metadata": {
    "deletable": true,
    "editable": true
   },
   "source": [
    "## 神经网络语言模型: 用 nce_loss 改进\n",
    "\n",
    "\n",
    "### 运行环境\n",
    "\n",
    "docker image `tensorflow/tensorflow`, Python 3.4.3"
   ]
  },
  {
   "cell_type": "code",
   "execution_count": 1,
   "metadata": {
    "collapsed": false,
    "deletable": true,
    "editable": true
   },
   "outputs": [],
   "source": [
    "params = dict(filename='../ch1/ZhangAiLing.txt',\n",
    "              read_size=100000,\n",
    "              vocab_size=2001,\n",
    "              embedding_dim=50,\n",
    "              num_sampled=25,\n",
    "              learning_rate=1,\n",
    "              epochs=1000,\n",
    "              print_cost_every=10,\n",
    "              batch_size=100)"
   ]
  },
  {
   "cell_type": "markdown",
   "metadata": {
    "deletable": true,
    "editable": true
   },
   "source": [
    "定义了 params, 用 [这里](http://stackoverflow.com/questions/36427747/scientific-computing-ipython-notebook-how-to-organize-code) 提到的方法就可以从别的 notebook 运行本 notebook. (暂时没用上. 在比较变化参数的效果时会很好用)"
   ]
  },
  {
   "cell_type": "code",
   "execution_count": 2,
   "metadata": {
    "collapsed": false,
    "deletable": true,
    "editable": true
   },
   "outputs": [],
   "source": [
    "%matplotlib inline\n",
    "from collections import Counter\n",
    "import time\n",
    "import jieba\n",
    "import numpy as np\n",
    "import matplotlib.pyplot as plt\n",
    "import tensorflow as tf"
   ]
  },
  {
   "cell_type": "markdown",
   "metadata": {
    "deletable": true,
    "editable": true
   },
   "source": [
    "### 读取语料，生成训练数据"
   ]
  },
  {
   "cell_type": "code",
   "execution_count": 3,
   "metadata": {
    "collapsed": false,
    "deletable": true,
    "editable": true
   },
   "outputs": [
    {
     "name": "stderr",
     "output_type": "stream",
     "text": [
      "Building prefix dict from the default dictionary ...\n",
      "Loading model from cache /tmp/jieba.cache\n",
      "Loading model cost 0.695 seconds.\n",
      "Prefix dict has been built succesfully.\n"
     ]
    },
    {
     "name": "stdout",
     "output_type": "stream",
     "text": [
      "截断处词频:  [('不怎么', 3), ('听不见', 3), ('恐怖', 3), ('懂', 3), ('楚', 3)]\n"
     ]
    }
   ],
   "source": [
    "read_size = params['read_size']\n",
    "vocab_size = params['vocab_size']\n",
    "filename = params['filename']\n",
    "\n",
    "with open(filename, encoding='utf-8') as f:\n",
    "    corpus = f.read(read_size)\n",
    "\n",
    "words = [word for word in jieba.cut(corpus) if word not in ' \\n']\n",
    "word_cnt = Counter(words)\n",
    "vocab = [i[0] for i in word_cnt.most_common(vocab_size - 1)]  # 词表(高频截断)\n",
    "vocab.insert(0, 'UNK')\n",
    "\n",
    "# 将语料序列映射到 [0, vocab_size - 1] 内的整数, 未登录词为 0\n",
    "word_ids = [vocab.index(word) if (word in vocab) else 0 \n",
    "            for word in words]\n",
    "\n",
    "# 生成训练数据\n",
    "inputs_train = np.asarray([[word_ids[i-1], word_ids[i+1]] \n",
    "                           for i in range(1, len(word_ids) - 1)])\n",
    "labels_train = np.asarray(word_ids[1:-1]).reshape(-1, 1)\n",
    "\n",
    "# 查看截断位置的词频\n",
    "print('截断处词频: ', word_cnt.most_common(vocab_size)[-5:])"
   ]
  },
  {
   "cell_type": "code",
   "execution_count": 4,
   "metadata": {
    "collapsed": false,
    "deletable": true,
    "editable": true
   },
   "outputs": [
    {
     "data": {
      "text/plain": [
       "(100000, 67488, 2001, (67486, 2), (67486, 1))"
      ]
     },
     "execution_count": 4,
     "metadata": {},
     "output_type": "execute_result"
    }
   ],
   "source": [
    "# print('len(corpus), len(words), len(vocab), inputs_train.shape, labels_train.shape: ')\n",
    "len(corpus), len(words), len(vocab), inputs_train.shape, labels_train.shape"
   ]
  },
  {
   "cell_type": "markdown",
   "metadata": {
    "deletable": true,
    "editable": true
   },
   "source": [
    "### 定义神经网络 和 nce_loss\n"
   ]
  },
  {
   "cell_type": "code",
   "execution_count": 5,
   "metadata": {
    "collapsed": false,
    "deletable": true,
    "editable": true
   },
   "outputs": [
    {
     "data": {
      "text/plain": [
       "(TensorShape([Dimension(None), Dimension(1)]),\n",
       " (67486, 1),\n",
       " TensorShape([Dimension(None), Dimension(2)]),\n",
       " (67486, 2))"
      ]
     },
     "execution_count": 5,
     "metadata": {},
     "output_type": "execute_result"
    }
   ],
   "source": [
    "tf.reset_default_graph()\n",
    "word_embedding_dim = params['embedding_dim']\n",
    "num_sampled = params['num_sampled']\n",
    "\n",
    "word_embeddings = tf.Variable(tf.random_uniform([vocab_size, word_embedding_dim]))\n",
    "inputs = tf.placeholder(tf.int32, shape=[None, 2], name='inputs')\n",
    "labels = tf.placeholder(tf.int32, shape=[None, 1], name='labels')\n",
    "\n",
    "input_embeds = tf.nn.embedding_lookup(word_embeddings, inputs)\n",
    "context_embeds = tf.reduce_sum(input_embeds, axis=1)\n",
    "\n",
    "nce_weights = tf.Variable(tf.truncated_normal([vocab_size, word_embedding_dim],\n",
    "                                              stddev=1.0/np.sqrt(word_embedding_dim)))\n",
    "nce_biases = tf.Variable(tf.zeros([vocab_size]))\n",
    "\n",
    "cost = tf.reduce_mean(tf.nn.nce_loss(weights=nce_weights,\n",
    "                                     biases=nce_biases,\n",
    "                                     labels=labels,\n",
    "                                     inputs=context_embeds,\n",
    "                                     num_sampled=num_sampled,\n",
    "                                     num_classes=vocab_size))\n",
    "\n",
    "# print('labels.shape, labels_train.shape, inputs.shape, inputs_train.shape:')\n",
    "labels.shape, labels_train.shape, inputs.shape, inputs_train.shape"
   ]
  },
  {
   "cell_type": "markdown",
   "metadata": {
    "deletable": true,
    "editable": true
   },
   "source": [
    "### 训练"
   ]
  },
  {
   "cell_type": "code",
   "execution_count": 6,
   "metadata": {
    "collapsed": false,
    "deletable": true,
    "editable": true
   },
   "outputs": [],
   "source": [
    "learning_rate = params['learning_rate']\n",
    "epochs = params['epochs']\n",
    "print_cost_every = params['print_cost_every']\n",
    "batch_size = params['batch_size']\n",
    "feed = {inputs: inputs_train, labels: labels_train}  # full-batch feed"
   ]
  },
  {
   "cell_type": "code",
   "execution_count": 7,
   "metadata": {
    "collapsed": false,
    "deletable": true,
    "editable": true
   },
   "outputs": [
    {
     "name": "stdout",
     "output_type": "stream",
     "text": [
      "Epoch   0 - Cost: 76.02726\n",
      "Epoch  10 - Cost: 2.88717\n",
      "Epoch  20 - Cost: 2.62641\n",
      "Epoch  30 - Cost: 2.37578\n",
      "Epoch  40 - Cost: 2.40182\n",
      "Epoch  50 - Cost: 2.37113\n",
      "Epoch  60 - Cost: 2.33052\n",
      "Epoch  70 - Cost: 2.28367\n",
      "Epoch  80 - Cost: 2.27330\n",
      "Epoch  90 - Cost: 2.19215\n",
      "Epoch  100 - Cost: 2.16488\n",
      "Epoch  110 - Cost: 2.54487\n",
      "Epoch  120 - Cost: 2.08320\n",
      "Epoch  130 - Cost: 2.00557\n",
      "Epoch  140 - Cost: 2.21865\n",
      "KeyboardInterrupt\n",
      "\n",
      "time: 92.13 s\n"
     ]
    }
   ],
   "source": [
    "train_step = tf.train.GradientDescentOptimizer(learning_rate).minimize(cost)\n",
    "\n",
    "sess = tf.Session()\n",
    "sess.run(tf.global_variables_initializer())\n",
    "costs = []\n",
    "\n",
    "# 训练集的随机序号\n",
    "num_inputs = len(labels_train)\n",
    "order = np.arange(num_inputs)\n",
    "np.random.shuffle(order)\n",
    "\n",
    "start_time = time.time()\n",
    "\n",
    "try:\n",
    "    for i in range(epochs):\n",
    "        if i % print_cost_every == 0:\n",
    "            cost_value = sess.run(cost, feed_dict=feed)\n",
    "            print(\"Epoch {: 3d} - Cost: {:.5f}\".format(i, cost_value))\n",
    "            costs.append(cost_value)\n",
    "        for j in range(0, num_inputs, batch_size):\n",
    "            batch_index = order[j: j + batch_size]\n",
    "            batch_inputs = inputs_train[batch_index]\n",
    "            batch_labels = labels_train[batch_index]\n",
    "            batch_feed = {inputs: batch_inputs, labels: batch_labels}\n",
    "            sess.run(train_step, feed_dict=batch_feed)\n",
    "except KeyboardInterrupt:\n",
    "    print('KeyboardInterrupt')\n",
    "finally:\n",
    "    end_time = time.time()\n",
    "    print('\\ntime: {:.2f} s'.format(end_time - start_time))"
   ]
  },
  {
   "cell_type": "code",
   "execution_count": 8,
   "metadata": {
    "collapsed": false,
    "deletable": true,
    "editable": true
   },
   "outputs": [
    {
     "data": {
      "image/png": "[encoded data removed]",
      "text/plain": [
       "<matplotlib.figure.Figure at 0x7ff434003630>"
      ]
     },
     "metadata": {},
     "output_type": "display_data"
    }
   ],
   "source": [
    "plt.plot(costs);"
   ]
  },
  {
   "cell_type": "markdown",
   "metadata": {
    "deletable": true,
    "editable": true
   },
   "source": [
    "### 比较词向量相似性\n",
    "\n",
    "完成 3 个名词各自最相近的 Top 10 个词的检索"
   ]
  },
  {
   "cell_type": "code",
   "execution_count": 9,
   "metadata": {
    "collapsed": false,
    "deletable": true,
    "editable": true
   },
   "outputs": [
    {
     "name": "stdout",
     "output_type": "stream",
     "text": [
      "similar to 叔惠:\n",
      "['世钧', '慕瑾', '曼桢', '阿宝', '顾太太', '两人', '他', '可笑', '翠芝', '啸桐']\n",
      "similar to 家里:\n",
      "['伏', '上次', '赌气', '里头', '厂里', '花', '不在乎', '大约', '一幢', '每天']\n",
      "similar to 茶杯:\n",
      "['灯火', '鞋子', '窗前', '枕头', '同学', '马车', '铁箱', '箱子', '茶叶', '卧室']\n",
      "similar to 手套:\n",
      "['钟', '一双', '狗', '还会', '印象', '老鼠', '留下', '个人', '台灯', '声浪']\n"
     ]
    }
   ],
   "source": [
    "def find_similar_words(words):\n",
    "    validate_ids = [vocab.index(word) for word in validate_words]\n",
    "    validate_inputs = tf.constant(validate_ids, dtype=tf.int32)\n",
    "\n",
    "    norm = tf.sqrt(tf.reduce_sum(tf.square(word_embeddings), 1, keep_dims=True))\n",
    "    normalized_embeddings = word_embeddings / norm\n",
    "    validate_embeddings = tf.nn.embedding_lookup(normalized_embeddings, validate_inputs)\n",
    "\n",
    "    similarity = tf.matmul(validate_embeddings, normalized_embeddings, transpose_b=True)\n",
    "    sim_values = sess.run(similarity, feed_dict=feed)\n",
    "    for i in range(len(validate_words)):\n",
    "        word = validate_words[i]\n",
    "        similar_ids = (-sim_values[i, :]).argsort()[1: 11]\n",
    "        similar_words = [vocab[j] for j in similar_ids]\n",
    "        print('similar to {}:'.format(word))\n",
    "        print(similar_words)\n",
    "\n",
    "validate_words = ['叔惠', '家里', '茶杯', '手套']\n",
    "find_similar_words(validate_words)"
   ]
  },
  {
   "cell_type": "markdown",
   "metadata": {
    "deletable": true,
    "editable": true
   },
   "source": [
    "### 模型改进效果\n",
    "\n",
    "* 普通 softmax + `tf.nn.sparse_softmax_cross_entropy_with_logits`: \n",
    "    * 来自 ch4 task3 `nn_language_model.ipynb` 之 v4a\n",
    "    * 训练时间约 450 s\n",
    "* nce_loss: \n",
    "    * 训练时间约 100 s\n",
    "    * 由于前提条件不完全相同, 以上只是粗略比较. 但可以看出 nce_loss 对训练速度的提升非常明显."
   ]
  }
 ],
 "metadata": {
  "kernelspec": {
   "display_name": "Python 3",
   "language": "python",
   "name": "python3"
  },
  "language_info": {
   "codemirror_mode": {
    "name": "ipython",
    "version": 3
   },
   "file_extension": ".py",
   "mimetype": "text/x-python",
   "name": "python",
   "nbconvert_exporter": "python",
   "pygments_lexer": "ipython3",
   "version": "3.4.3"
  }
 },
 "nbformat": 4,
 "nbformat_minor": 2
}

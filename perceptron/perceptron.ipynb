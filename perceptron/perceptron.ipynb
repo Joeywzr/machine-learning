{
 "cells": [
  {
   "cell_type": "markdown",
   "metadata": {},
   "source": [
    "## Perceptron Learning Algorithm\n",
    "\n",
    "[Learning from data](https://work.caltech.edu/telecourse.html) - Homework 1 - Q7~10"
   ]
  },
  {
   "cell_type": "code",
   "execution_count": 1,
   "metadata": {
    "collapsed": true
   },
   "outputs": [],
   "source": [
    "import numpy as np\n",
    "import matplotlib.pyplot as plt\n",
    "%matplotlib inline"
   ]
  },
  {
   "cell_type": "code",
   "execution_count": 2,
   "metadata": {},
   "outputs": [],
   "source": [
    "def generate_data(N):\n",
    "    x = np.random.uniform(-1, 1, (N, 2))\n",
    "    x = np.column_stack((np.ones(N), x))  # add x_0 = 1 for bias\n",
    "    y = np.sign(x.dot(w_true))  # true labels\n",
    "    return x, y\n",
    "\n",
    "def is_misclassified(x, y, w):\n",
    "    y_bar = np.sign(x.dot(w))\n",
    "    return np.not_equal(y_bar, y)\n",
    "\n",
    "def error_rate(x, y, w):\n",
    "    mis = np.array(is_misclassified(x, y, w), dtype=int)\n",
    "    return mis.sum()/len(mis)\n",
    "\n",
    "def train(x, y, N, debug=False):\n",
    "    w = np.array([[0., 0., 0.]]).T\n",
    "\n",
    "    iteration = 0\n",
    "    while any(is_misclassified(x, y, w)):\n",
    "        for j in range(N):\n",
    "            if is_misclassified(x[j], y[j], w):\n",
    "                if debug:\n",
    "                    print('** iteration: ', iteration)\n",
    "                    print(error_rate(x, y, w))\n",
    "                w += np.array([y[j] * x[j]]).T\n",
    "                iteration += 1\n",
    "\n",
    "    return w, iteration"
   ]
  },
  {
   "cell_type": "code",
   "execution_count": 8,
   "metadata": {},
   "outputs": [
    {
     "name": "stdout",
     "output_type": "stream",
     "text": [
      "** iteration:  0\n",
      "1.0\n",
      "** iteration:  1\n",
      "0.1\n",
      "** iteration:  2\n",
      "0.4\n",
      "** iteration:  3\n",
      "0.1\n",
      "** iteration:  4\n",
      "0.4\n",
      "** iteration:  5\n",
      "0.1\n",
      "** iteration:  6\n",
      "0.4\n",
      "** iteration:  7\n",
      "0.1\n",
      "** iteration:  8\n",
      "0.4\n",
      "** iteration:  9\n",
      "0.1\n",
      "** iteration:  10\n",
      "0.4\n",
      "test error rate:  0.1173\n"
     ]
    }
   ],
   "source": [
    "# weights of \"true\" target function f\n",
    "w_true = np.array([[0.5, 1, -1]]).T\n",
    "\n",
    "# train\n",
    "N_train = 10\n",
    "x_train, y_train = generate_data(N_train)\n",
    "w, iterations = train(x_train, y_train, N_train, debug=True)\n",
    "\n",
    "# test and evaluate (用大量数据来获得错误概率的近似值)\n",
    "N_test = 100000\n",
    "x_test, y_test = generate_data(N_test)\n",
    "print('test error rate: ', error_rate(x_test, y_test, w))"
   ]
  },
  {
   "cell_type": "markdown",
   "metadata": {},
   "source": [
    "### Q7~8: num-of-iterations and $P[f(x)\\neq g(x)]$ for $N = 10$"
   ]
  },
  {
   "cell_type": "code",
   "execution_count": 5,
   "metadata": {},
   "outputs": [
    {
     "data": {
      "text/plain": [
       "(10.680999999999999, 0.11926402999999999)"
      ]
     },
     "execution_count": 5,
     "metadata": {},
     "output_type": "execute_result"
    }
   ],
   "source": [
    "# N_train = 10. 计算 1000 次取平均 iterations 和 error_rate\n",
    "N_train = 10\n",
    "N_test = 100000\n",
    "num = 1000\n",
    "\n",
    "array_of_iterations = np.array([])\n",
    "array_of_error_rate = np.array([])\n",
    "for i in range(num):\n",
    "    x_train, y_train = generate_data(N_train)\n",
    "    w, iterations = train(x_train, y_train, N_train)\n",
    "    array_of_iterations = np.append(array_of_iterations, iterations)\n",
    "    \n",
    "    x_test, y_test = generate_data(N_test)\n",
    "    array_of_error_rate = np.append(array_of_error_rate, error_rate(x_test, y_test, w))\n",
    "\n",
    "array_of_iterations.mean(), array_of_error_rate.mean()"
   ]
  },
  {
   "cell_type": "markdown",
   "metadata": {},
   "source": [
    "### Q9~10: num-of-iterations and $P[f(x)\\neq g(x)]$ for $N = 100$"
   ]
  },
  {
   "cell_type": "code",
   "execution_count": 6,
   "metadata": {},
   "outputs": [
    {
     "data": {
      "text/plain": [
       "(109.80200000000001, 0.01363693)"
      ]
     },
     "execution_count": 6,
     "metadata": {},
     "output_type": "execute_result"
    }
   ],
   "source": [
    "# N_train = 100. 计算 1000 次取平均 iterations 和 error_rate\n",
    "N_train = 100\n",
    "N_test = 100000\n",
    "num = 1000\n",
    "\n",
    "array_of_iterations = np.array([])\n",
    "array_of_error_rate = np.array([])\n",
    "for i in range(num):\n",
    "    x_train, y_train = generate_data(N_train)\n",
    "    w, iterations = train(x_train, y_train, N_train)\n",
    "    array_of_iterations = np.append(array_of_iterations, iterations)\n",
    "    \n",
    "    x_test, y_test = generate_data(N_test)\n",
    "    array_of_error_rate = np.append(array_of_error_rate, error_rate(x_test, y_test, w))\n",
    "\n",
    "array_of_iterations.mean(), array_of_error_rate.mean()"
   ]
  }
 ],
 "metadata": {
  "kernelspec": {
   "display_name": "Python 3",
   "language": "python",
   "name": "python3"
  },
  "language_info": {
   "codemirror_mode": {
    "name": "ipython",
    "version": 3
   },
   "file_extension": ".py",
   "mimetype": "text/x-python",
   "name": "python",
   "nbconvert_exporter": "python",
   "pygments_lexer": "ipython3",
   "version": "3.5.2"
  },
  "toc": {
   "colors": {
    "hover_highlight": "#DAA520",
    "running_highlight": "#FF0000",
    "selected_highlight": "#FFD700"
   },
   "moveMenuLeft": true,
   "nav_menu": {
    "height": "81px",
    "width": "252px"
   },
   "navigate_menu": true,
   "number_sections": false,
   "sideBar": true,
   "threshold": 4,
   "toc_cell": false,
   "toc_section_display": "block",
   "toc_window_display": false,
   "widenNotebook": false
  }
 },
 "nbformat": 4,
 "nbformat_minor": 2
}

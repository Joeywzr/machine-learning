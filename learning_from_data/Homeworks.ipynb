{
 "cells": [
  {
   "cell_type": "markdown",
   "metadata": {},
   "source": [
    "[Learning From Data 课程](https://work.caltech.edu/telecourse.html) 部分 Homework 的解答和笔记\n",
    "\n",
    "作业的意义\n",
    "> They are meant to make you roll up your sleeves, face uncertainties, and approach the problem from different angles."
   ]
  },
  {
   "cell_type": "code",
   "execution_count": 2,
   "metadata": {
    "collapsed": true
   },
   "outputs": [],
   "source": [
    "from IPython.core.interactiveshell import InteractiveShell\n",
    "InteractiveShell.ast_node_interactivity = \"all\""
   ]
  },
  {
   "cell_type": "markdown",
   "metadata": {},
   "source": [
    "## Hw 1\n",
    "https://work.caltech.edu/homework/hw1.pdf"
   ]
  },
  {
   "cell_type": "markdown",
   "metadata": {},
   "source": [
    "### Q3 条件概率\n",
    "\n",
    "We have 2 opaque bags, each containing 2 balls. One bag has 2 black balls and the other has a black ball and a white ball. You pick a bag at random and then pick one of the balls in that bag at random. When you look at the ball, it is black. You now pick the second ball from that same bag. What is the probability that this ball is also black?\n"
   ]
  },
  {
   "cell_type": "markdown",
   "metadata": {},
   "source": [
    "### Q7-10 Perceptron Learning Algorithm\n",
    "\n",
    "见 [perceptron.ipynb](https://github.com/sunoonlee/machine-learning/blob/master/perceptron/perceptron.ipynb)"
   ]
  },
  {
   "cell_type": "markdown",
   "metadata": {},
   "source": [
    "## Hw 2\n",
    "https://work.caltech.edu/homework/hw2.pdf"
   ]
  },
  {
   "cell_type": "markdown",
   "metadata": {},
   "source": [
    "### Hoeffding Inequality  Q1~2"
   ]
  },
  {
   "cell_type": "code",
   "execution_count": 6,
   "metadata": {
    "collapsed": true
   },
   "outputs": [],
   "source": [
    "import numpy as np"
   ]
  },
  {
   "cell_type": "code",
   "execution_count": 101,
   "metadata": {},
   "outputs": [
    {
     "data": {
      "text/plain": [
       "array([[1, 1, 0, ..., 0, 0, 0],\n",
       "       [0, 1, 0, ..., 1, 1, 0],\n",
       "       [0, 0, 0, ..., 1, 0, 0],\n",
       "       ..., \n",
       "       [0, 1, 1, ..., 1, 0, 0],\n",
       "       [0, 0, 1, ..., 1, 1, 1],\n",
       "       [1, 1, 1, ..., 1, 1, 1]])"
      ]
     },
     "execution_count": 101,
     "metadata": {},
     "output_type": "execute_result"
    }
   ],
   "source": [
    "# 1000 coins, flip 10 times. \n",
    "# 用一个 heads 矩阵来记录结果. 1/0 分别为正/反面. \n",
    "# 每行代表一轮, 每列代表一个硬币.\n",
    "heads = np.random.randint(0, 2, [10, 1000])\n",
    "heads"
   ]
  },
  {
   "cell_type": "code",
   "execution_count": 102,
   "metadata": {},
   "outputs": [
    {
     "data": {
      "text/plain": [
       "0.5"
      ]
     },
     "execution_count": 102,
     "metadata": {},
     "output_type": "execute_result"
    }
   ],
   "source": [
    "# first coin\n",
    "results_1 = heads[:,0]\n",
    "fraction_1 = results_1.sum()/len(results_1)\n",
    "fraction_1"
   ]
  },
  {
   "cell_type": "code",
   "execution_count": 119,
   "metadata": {},
   "outputs": [
    {
     "data": {
      "text/plain": [
       "0.59999999999999998"
      ]
     },
     "execution_count": 119,
     "metadata": {},
     "output_type": "execute_result"
    }
   ],
   "source": [
    "# random coin\n",
    "results_rand = np.array([np.random.choice(heads[i]) for i in range(10)])\n",
    "fraction_rand = results_rand.sum()/len(results_rand)\n",
    "fraction_rand"
   ]
  },
  {
   "cell_type": "code",
   "execution_count": 123,
   "metadata": {},
   "outputs": [
    {
     "data": {
      "text/plain": [
       "0.10000000000000001"
      ]
     },
     "execution_count": 123,
     "metadata": {},
     "output_type": "execute_result"
    }
   ],
   "source": [
    "# coin with least heads\n",
    "freq_of_coins = np.array([\n",
    "    heads[:,i].sum() / len(heads[:,i]) for i in range(1000)])\n",
    "fraction_min = freq_of_coins.min()\n",
    "fraction_min"
   ]
  },
  {
   "cell_type": "code",
   "execution_count": 135,
   "metadata": {},
   "outputs": [
    {
     "name": "stdout",
     "output_type": "stream",
     "text": [
      "0 ...\n",
      "1000 ...\n",
      "2000 ...\n",
      "3000 ...\n",
      "4000 ...\n",
      "5000 ...\n",
      "6000 ...\n",
      "7000 ...\n",
      "8000 ...\n",
      "9000 ...\n"
     ]
    },
    {
     "data": {
      "text/plain": [
       "(0.49903999999999998, 0.49643999999999994, 0.037519999999999998)"
      ]
     },
     "execution_count": 135,
     "metadata": {},
     "output_type": "execute_result"
    }
   ],
   "source": [
    "# 重复 100000 次取平均\n",
    "fraction_array_1 = np.array([])\n",
    "fraction_array_rand = np.array([])\n",
    "fraction_array_min = np.array([])\n",
    "\n",
    "for j in range(10000):\n",
    "    if j % 1000 == 0:\n",
    "        print(j, '...')\n",
    "        \n",
    "    heads = np.random.randint(0, 2, [10, 1000])\n",
    "    \n",
    "    fraction_array_1 = np.append(\n",
    "        fraction_array_1,\n",
    "        heads[:,0].sum()/len(heads[:,0]))\n",
    "    \n",
    "    results_rand = np.array([np.random.choice(heads[i]) for i in range(10)])\n",
    "    fraction_array_rand = np.append(\n",
    "        fraction_array_rand,\n",
    "        results_rand.sum()/len(results_rand))\n",
    "    \n",
    "    freq_of_coins = np.array([\n",
    "        heads[:,i].sum() / len(heads[:,i]) for i in range(1000)])\n",
    "    fraction_array_min = np.append(\n",
    "        fraction_array_min,\n",
    "        freq_of_coins.min())\n",
    "\n",
    "fraction_array_1.mean(), fraction_array_rand.mean(), fraction_array_min.mean()"
   ]
  },
  {
   "cell_type": "markdown",
   "metadata": {},
   "source": [
    "### Errors and Noise Q3~4\n",
    "  \n",
    "\n",
    "$ P(h(x) \\neq y) $  \n",
    "$ = P(h(x) \\neq f(x), f(x) = y) + P(h(x) = f(x), f(x) \\neq y) $  \n",
    "$ = \\mu * \\lambda + (1-\\mu) * (1-\\lambda) $  \n",
    "$ = 1 - \\lambda - \\mu + 2\\lambda\\mu $\n",
    "\n",
    "当 $\\lambda = 0.5$ 时, 此概率与 $\\mu$ 无关"
   ]
  },
  {
   "cell_type": "markdown",
   "metadata": {},
   "source": [
    "### Linear regression\n",
    "\n",
    "* Q7 提到用线性回归得到的 weights 作为 PLA 的初始 weights."
   ]
  },
  {
   "cell_type": "markdown",
   "metadata": {},
   "source": [
    "### Nonlinear Transformation Q8-10\n",
    "\n",
    "- 给定”真实”决策界面为圆形的数据\n",
    "- transformation: $(1, x_1, x_2) \\rightarrow (1, x_1, x_2, x_1x_2, x_1^2, x_2^2)$"
   ]
  },
  {
   "cell_type": "markdown",
   "metadata": {},
   "source": [
    "## Hw3\n",
    "https://work.caltech.edu/homework/hw3.pdf"
   ]
  },
  {
   "cell_type": "markdown",
   "metadata": {},
   "source": [
    "### Generalization Error Q1-3\n",
    "\n",
    "* 根据 generalization error 不等式 $P[|E_{in}(g) - E_{out}(g)| > \\epsilon] \\leq 2Me^{-2\\epsilon^2N}$\n",
    "* 给定: $\\epsilon$, probability bound p, M\n",
    "* 求最少需要的样本数 N"
   ]
  },
  {
   "cell_type": "code",
   "execution_count": 3,
   "metadata": {},
   "outputs": [
    {
     "data": {
      "text/plain": [
       "839.9410155759853"
      ]
     },
     "execution_count": 3,
     "metadata": {},
     "output_type": "execute_result"
    },
    {
     "data": {
      "text/plain": [
       "1300.4580341747942"
      ]
     },
     "execution_count": 3,
     "metadata": {},
     "output_type": "execute_result"
    },
    {
     "data": {
      "text/plain": [
       "1760.9750527736032"
      ]
     },
     "execution_count": 3,
     "metadata": {},
     "output_type": "execute_result"
    }
   ],
   "source": [
    "from math import log\n",
    "\n",
    "def N_min(e, p, M):\n",
    "    return log(2*M/p) / (2 * e**2)\n",
    "\n",
    "N_min(0.05, 0.03, 1)\n",
    "N_min(0.05, 0.03, 10)\n",
    "N_min(0.05, 0.03, 100)"
   ]
  },
  {
   "cell_type": "markdown",
   "metadata": {},
   "source": [
    "当 Probability bound 和 tolerance $\\epsilon$ 确定时, 需要的 N 随 M 的增长是对数关系."
   ]
  },
  {
   "cell_type": "markdown",
   "metadata": {},
   "source": [
    "## Hw4\n",
    "https://work.caltech.edu/homework/hw4.pdf"
   ]
  },
  {
   "cell_type": "markdown",
   "metadata": {},
   "source": [
    "### Generalization Error Q1-3\n",
    "\n",
    "Q1\n",
    "* 假定 $m_H(N) = N^{d_vc}$\n",
    "* 已知: d_vc = 10, 95% 保证率, 泛化误差上限 0.05\n",
    "* 根据 VC generalization bound 求样本数量.\n",
    "\n",
    "解:\n",
    "* 根据 VC 不等式 $P[|E_{in}(g) - E_{out}(g)| > \\epsilon] \\leq 4m_H(2N) e^{-\\epsilon^2N/8}$, 得:\n",
    "* $4 (2N)^{10} e^{-0.05^2*N/8} = 0.05$\n",
    "* 解方程:\n",
    "\n",
    "\n",
    "\n",
    "\n",
    "\n"
   ]
  },
  {
   "cell_type": "code",
   "execution_count": 20,
   "metadata": {},
   "outputs": [
    {
     "data": {
      "text/plain": [
       "452956.86472309916"
      ]
     },
     "execution_count": 20,
     "metadata": {},
     "output_type": "execute_result"
    }
   ],
   "source": [
    "from scipy.optimize import brentq\n",
    "\n",
    "def func(x):\n",
    "    return 4 * (2*x)**10 * np.exp(-0.05**2 * x / 8) - 0.05\n",
    "\n",
    "sol = brentq(func, 1.0, 10**6)\n",
    "sol"
   ]
  },
  {
   "cell_type": "markdown",
   "metadata": {},
   "source": [
    "Q2-Q3:\n",
    "* 这两题是比较不同的 generalization bound.\n",
    "* original VC bound: $\\epsilon \\leq \\sqrt{\\frac{8}{N} ln\\frac{4m_H(2N)}{\\delta}}$\n",
    "* 为了 tighten the VC bound, 研究者还提出了一些其他 bound. 但总的来说这些 bound 似乎都是比较松的."
   ]
  }
 ],
 "metadata": {
  "kernelspec": {
   "display_name": "Python 3",
   "language": "python",
   "name": "python3"
  },
  "language_info": {
   "codemirror_mode": {
    "name": "ipython",
    "version": 3
   },
   "file_extension": ".py",
   "mimetype": "text/x-python",
   "name": "python",
   "nbconvert_exporter": "python",
   "pygments_lexer": "ipython3",
   "version": "3.5.2"
  },
  "toc": {
   "colors": {
    "hover_highlight": "#DAA520",
    "running_highlight": "#FF0000",
    "selected_highlight": "#FFD700"
   },
   "moveMenuLeft": true,
   "nav_menu": {
    "height": "84px",
    "width": "252px"
   },
   "navigate_menu": true,
   "number_sections": false,
   "sideBar": true,
   "threshold": 4,
   "toc_cell": false,
   "toc_position": {
    "height": "1350px",
    "left": "0px",
    "right": "1541px",
    "top": "109px",
    "width": "222px"
   },
   "toc_section_display": "block",
   "toc_window_display": false,
   "widenNotebook": false
  }
 },
 "nbformat": 4,
 "nbformat_minor": 2
}

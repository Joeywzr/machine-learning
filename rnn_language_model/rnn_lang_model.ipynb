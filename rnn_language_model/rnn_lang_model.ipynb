{
 "cells": [
  {
   "cell_type": "markdown",
   "metadata": {
    "deletable": true,
    "editable": true
   },
   "source": [
    "## RNN 语言模型"
   ]
  },
  {
   "cell_type": "code",
   "execution_count": 1,
   "metadata": {
    "collapsed": false,
    "deletable": true,
    "editable": true,
    "scrolled": true
   },
   "outputs": [
    {
     "name": "stdout",
     "output_type": "stream",
     "text": [
      "CPython 3.4.3\n",
      "IPython 5.3.0\n",
      "\n",
      "tensorflow 1.0.1\n",
      "numpy 1.12.0\n",
      "\n",
      "compiler   : GCC 4.8.4\n",
      "system     : Linux\n",
      "release    : 4.9.8-moby\n",
      "machine    : x86_64\n",
      "processor  : x86_64\n",
      "CPU cores  : 4\n",
      "interpreter: 64bit\n"
     ]
    }
   ],
   "source": [
    "%load_ext watermark\n",
    "%watermark -p tensorflow,numpy -v -m"
   ]
  },
  {
   "cell_type": "code",
   "execution_count": 2,
   "metadata": {
    "collapsed": false,
    "deletable": true,
    "editable": true
   },
   "outputs": [],
   "source": [
    "from collections import Counter\n",
    "import time\n",
    "import jieba\n",
    "import numpy as np\n",
    "import tensorflow as tf\n",
    "import matplotlib.pyplot as plt\n",
    "%matplotlib inline"
   ]
  },
  {
   "cell_type": "code",
   "execution_count": 3,
   "metadata": {
    "collapsed": true,
    "deletable": true,
    "editable": true
   },
   "outputs": [],
   "source": [
    "# 模型相关参数\n",
    "filename = '../ch1/ZhangAiLing.txt'\n",
    "file_read_size = 50000  # 设为0时读取全部文件\n",
    "word_embedding_dim = 30\n",
    "num_units = 30  # units of RNN cell\n",
    "vocab_min_freq = 5  # 计入词表的最小词频\n",
    "rnn_cell_type = 'LSTM'  # RNN cell 类型: 'vanilla', 'LSTM'"
   ]
  },
  {
   "cell_type": "markdown",
   "metadata": {
    "deletable": true,
    "editable": true
   },
   "source": [
    "### 读取语料, 生成训练数据"
   ]
  },
  {
   "cell_type": "code",
   "execution_count": 4,
   "metadata": {
    "collapsed": true,
    "deletable": true,
    "editable": true
   },
   "outputs": [],
   "source": [
    "PADDING = '<PAD>'\n",
    "START = '<START>'  # 句首 token\n",
    "UNKNOWN = '<UNK>'\n",
    "VOCAB_SPECIAL = (PADDING, START, UNKNOWN)\n",
    "END_PUNC = '。！？'  # 作为句子结束的符号\n",
    "IGNORE = '\\n “”\"《》〈〉()*'  # 忽略不计的符号"
   ]
  },
  {
   "cell_type": "code",
   "execution_count": 5,
   "metadata": {
    "collapsed": true,
    "deletable": true,
    "editable": true
   },
   "outputs": [],
   "source": [
    "def text2sentences(text):\n",
    "    sentences = []\n",
    "    sentence = []\n",
    "    for word in jieba.cut(text):\n",
    "        if word not in IGNORE:\n",
    "            sentence.append(word)\n",
    "        if word in END_PUNC:\n",
    "            sentences.append(sentence)\n",
    "            sentence = []\n",
    "    return sentences\n",
    "\n",
    "def prepend_start_token(sentences):\n",
    "    return [[START] + sen for sen in sentences]\n",
    "\n",
    "def build_vocab(sentences):\n",
    "    \"\"\"生成词表. 前几个位置留给 VOCAB_SPECIAL \"\"\"\n",
    "    vocab = list(VOCAB_SPECIAL)\n",
    "    words_flat = [word for sen in sentences for word in sen]\n",
    "    word_cnt = Counter(words_flat)\n",
    "    for word, count in word_cnt.most_common():\n",
    "        if count >= vocab_min_freq:\n",
    "            vocab.append(word)\n",
    "    return vocab\n",
    "\n",
    "def word2id(word):\n",
    "    if word not in vocab:\n",
    "        word = UNKNOWN\n",
    "    return word2id_dict[word]\n",
    "\n",
    "def sentences2ids(sentences):\n",
    "    return [[word2id(word) for word in s] for s in sentences]"
   ]
  },
  {
   "cell_type": "code",
   "execution_count": 6,
   "metadata": {
    "collapsed": false,
    "deletable": true,
    "editable": true
   },
   "outputs": [
    {
     "name": "stderr",
     "output_type": "stream",
     "text": [
      "Building prefix dict from the default dictionary ...\n",
      "Loading model from cache /tmp/jieba.cache\n",
      "Loading model cost 0.706 seconds.\n",
      "Prefix dict has been built succesfully.\n"
     ]
    },
    {
     "name": "stdout",
     "output_type": "stream",
     "text": [
      "** vocab size = 725 **\n"
     ]
    }
   ],
   "source": [
    "with open(filename, encoding='utf-8') as f:\n",
    "    text = f.read(file_read_size) if file_read_size else f.read()\n",
    "\n",
    "sentences = text2sentences(text)\n",
    "vocab = build_vocab(sentences)\n",
    "vocab_size = len(vocab)\n",
    "print('** vocab size = {} **'.format(vocab_size))"
   ]
  },
  {
   "cell_type": "code",
   "execution_count": 7,
   "metadata": {
    "collapsed": false,
    "deletable": true,
    "editable": true,
    "scrolled": true
   },
   "outputs": [],
   "source": [
    "word2id_dict = {word: i for i, word in enumerate(vocab)}\n",
    "\n",
    "sentences = prepend_start_token(sentences)\n",
    "train_data = sentences2ids(sentences)"
   ]
  },
  {
   "cell_type": "code",
   "execution_count": 8,
   "metadata": {
    "collapsed": false,
    "deletable": true,
    "editable": true
   },
   "outputs": [
    {
     "data": {
      "text/plain": [
       "((1734, 82), (1734, 82))"
      ]
     },
     "execution_count": 8,
     "metadata": {},
     "output_type": "execute_result"
    }
   ],
   "source": [
    "def generate_batch(train_data, batch_size):\n",
    "    \"\"\"生成 batch 训练数据.\n",
    "    按 batch 内最大句长做 zero padding\"\"\"\n",
    "    for i in range(0, len(train_data), batch_size):\n",
    "        batch = train_data[i:i+batch_size]\n",
    "        max_len_of_batch = max([len(i) for i in batch])\n",
    "        for j in range(len(batch)):\n",
    "            batch[j].extend([0] * (max_len_of_batch - len(batch[j])))  # zero padding\n",
    "        batch_data = np.asarray(batch)\n",
    "        batch_inputs = batch_data[:, :-1]\n",
    "        batch_labels = batch_data[:, 1:]\n",
    "        yield batch_inputs, batch_labels\n",
    "\n",
    "# 当 batch_size 等于总句数时, 得到的即为全体样本训练数据\n",
    "all_inputs, all_labels = list(generate_batch(train_data, len(train_data)))[0]\n",
    "all_inputs.shape, all_labels.shape"
   ]
  },
  {
   "cell_type": "markdown",
   "metadata": {
    "deletable": true,
    "editable": true
   },
   "source": [
    "### 构建 RNN"
   ]
  },
  {
   "cell_type": "code",
   "execution_count": 9,
   "metadata": {
    "collapsed": false,
    "deletable": true,
    "editable": true
   },
   "outputs": [],
   "source": [
    "tf.reset_default_graph()\n",
    "\n",
    "if rnn_cell_type == 'vanilla':\n",
    "    cell = tf.contrib.rnn.BasicRNNCell(num_units)\n",
    "elif rnn_cell_type == 'LSTM':\n",
    "    cell = tf.contrib.rnn.BasicLSTMCell(num_units)\n",
    "else:\n",
    "    raise ValueError('Not a valid cell type')\n",
    "\n",
    "word_embedding = tf.Variable(tf.random_uniform([vocab_size, word_embedding_dim]))\n",
    "\n",
    "# shape 第一个维度等于input/batch size, 第二个维度等于 句长-1\n",
    "inputs = tf.placeholder(tf.int32, shape=[None, None], name='inputs')\n",
    "labels = tf.placeholder(tf.int32, shape=[None, None], name='labels')\n",
    "labels_flat = tf.reshape(labels, (-1,))\n",
    "\n",
    "input_embeds = tf.nn.embedding_lookup(word_embedding, inputs)\n",
    "\n",
    "# 各句子中非零 id 的个数即为 sequence_length\n",
    "sequence_length = tf.reduce_sum(tf.sign(inputs), axis=1)  \n",
    "max_sequence_length = tf.reduce_max(sequence_length)\n",
    "output, states = tf.nn.dynamic_rnn(cell, input_embeds, dtype=tf.float32, \n",
    "                                   sequence_length=sequence_length)\n",
    "output_flat = tf.reshape(output, (-1, num_units))\n",
    "\n",
    "softmax_w = tf.Variable(tf.random_uniform([num_units, vocab_size]))\n",
    "softmax_b = tf.Variable(tf.random_uniform([vocab_size]))\n",
    "\n",
    "logits_flat = tf.matmul(output_flat, softmax_w) + softmax_b\n",
    "probs_flat = tf.sigmoid(logits_flat)\n",
    "probs = tf.reshape(probs_flat, (-1, max_sequence_length, vocab_size))\n",
    "\n",
    "losses = tf.nn.sparse_softmax_cross_entropy_with_logits(logits=logits_flat, labels=labels_flat)"
   ]
  },
  {
   "cell_type": "markdown",
   "metadata": {
    "deletable": true,
    "editable": true
   },
   "source": [
    "### 用 mask 修正 loss 函数"
   ]
  },
  {
   "cell_type": "code",
   "execution_count": 10,
   "metadata": {
    "collapsed": false,
    "deletable": true,
    "editable": true
   },
   "outputs": [],
   "source": [
    "mask = tf.cast(tf.sign(labels_flat), tf.float32)\n",
    "loss = tf.reduce_sum(losses * mask)"
   ]
  },
  {
   "cell_type": "markdown",
   "metadata": {
    "deletable": true,
    "editable": true
   },
   "source": [
    "### 训练"
   ]
  },
  {
   "cell_type": "code",
   "execution_count": 20,
   "metadata": {
    "collapsed": true,
    "deletable": true,
    "editable": true
   },
   "outputs": [],
   "source": [
    "# 训练相关参数\n",
    "learning_rate = 0.1\n",
    "batch_size = 10\n",
    "epochs = 200\n",
    "print_loss_every = 5"
   ]
  },
  {
   "cell_type": "code",
   "execution_count": 21,
   "metadata": {
    "collapsed": false,
    "deletable": true,
    "editable": true
   },
   "outputs": [
    {
     "name": "stdout",
     "output_type": "stream",
     "text": [
      "epoch    0: cost = 161407.1719\n",
      "epoch    5: cost = 141290.4688\n",
      "epoch   10: cost = 138211.0312\n",
      "epoch   15: cost = 136674.0781\n",
      "epoch   20: cost = 132048.2188\n",
      "epoch   25: cost = 129770.1484\n",
      "epoch   30: cost = 129553.0469\n",
      "epoch   35: cost = 127569.4766\n",
      "epoch   40: cost = 125211.4453\n",
      "epoch   45: cost = 123705.5469\n",
      "epoch   50: cost = 122868.9062\n",
      "epoch   55: cost = 122875.9688\n",
      "epoch   60: cost = 121130.2188\n",
      "epoch   65: cost = 121980.0000\n",
      "epoch   70: cost = 120480.8594\n",
      "epoch   75: cost = 119347.8594\n",
      "epoch   80: cost = 119441.8906\n",
      "epoch   85: cost = 118570.5625\n",
      "epoch   90: cost = 118275.2188\n",
      "epoch   95: cost = 118049.4531\n",
      "epoch  100: cost = 118011.9375\n",
      "epoch  105: cost = 118158.5156\n",
      "epoch  110: cost = 116956.1016\n",
      "epoch  115: cost = 116689.2969\n",
      "epoch  120: cost = 116656.5156\n",
      "epoch  125: cost = 116419.5625\n",
      "epoch  130: cost = 115851.2188\n",
      "epoch  135: cost = 116344.6719\n",
      "epoch  140: cost = 116051.1172\n",
      "epoch  145: cost = 116261.9062\n",
      "epoch  150: cost = 115502.2031\n",
      "epoch  155: cost = 115737.3594\n",
      "epoch  160: cost = 115217.7188\n",
      "epoch  165: cost = 115345.8359\n",
      "epoch  170: cost = 115116.7656\n",
      "epoch  175: cost = 114964.3984\n",
      "epoch  180: cost = 114807.6562\n",
      "epoch  185: cost = 114667.2266\n",
      "epoch  190: cost = 114186.4688\n",
      "epoch  195: cost = 114131.0547\n",
      "train time: 1651.69 s\n"
     ]
    },
    {
     "data": {
      "image/png": "[encoded data removed]",
      "text/plain": [
       "<matplotlib.figure.Figure at 0x7f94b2e85a58>"
      ]
     },
     "metadata": {},
     "output_type": "display_data"
    }
   ],
   "source": [
    "train_step = tf.train.GradientDescentOptimizer(learning_rate).minimize(loss)\n",
    "all_feed = {inputs: all_inputs, labels: all_labels}\n",
    "loss_history = []\n",
    "\n",
    "sess = tf.Session()\n",
    "sess.run(tf.global_variables_initializer())\n",
    "start_time = time.time()\n",
    "try:\n",
    "    for i in range(epochs):        \n",
    "        for inp, lab in generate_batch(train_data, batch_size):\n",
    "            batch_feed = {inputs: inp, labels: lab}\n",
    "            sess.run(train_step, feed_dict=batch_feed)\n",
    "        if i % print_loss_every == 0:\n",
    "            loss_val = sess.run(loss, feed_dict=all_feed)\n",
    "            loss_history.append(loss_val)\n",
    "            print('epoch {: 4d}: cost = {:.4f}'.format(i, loss_val))\n",
    "except KeyboardInterrupt:\n",
    "    print('KeyboardInterrupt')\n",
    "\n",
    "end_time = time.time()\n",
    "print('train time: {:.2f} s'.format(end_time - start_time))\n",
    "plt.plot(loss_history);"
   ]
  },
  {
   "cell_type": "markdown",
   "metadata": {
    "deletable": true,
    "editable": true
   },
   "source": [
    "### 用模型生成语句"
   ]
  },
  {
   "cell_type": "markdown",
   "metadata": {
    "deletable": true,
    "editable": true
   },
   "source": [
    "生成一个句子的步骤:\n",
    "* 由 句首token, 生成第一个词\n",
    "* ...由已有的词生成下一个词...\n",
    "* 直到生成 END_PUNC 为止.\n",
    "* 如果生成了 UNK: 重新生成."
   ]
  },
  {
   "cell_type": "code",
   "execution_count": 22,
   "metadata": {
    "collapsed": false,
    "deletable": true,
    "editable": true
   },
   "outputs": [
    {
     "data": {
      "text/plain": [
       "TensorShape([Dimension(725)])"
      ]
     },
     "execution_count": 22,
     "metadata": {},
     "output_type": "execute_result"
    }
   ],
   "source": [
    "# 从三阶张量 probs 中提取出生成模型时下一个词的概率分布\n",
    "probs_next_word = probs[0, -1, :]\n",
    "probs_next_word.shape"
   ]
  },
  {
   "cell_type": "code",
   "execution_count": 25,
   "metadata": {
    "collapsed": false,
    "deletable": true,
    "editable": true,
    "scrolled": false
   },
   "outputs": [
    {
     "name": "stdout",
     "output_type": "stream",
     "text": [
      "*  一面坐她他父亲怎么样是又问一脚吃着：那孩子了她忽然从曼桢看见…一鸣回来了是这样心还有没好？\n",
      "*  沈到叔惠也觉得我母亲是去：嗳不大好房里？\n",
      "*  世钧和叔惠生气，他的年纪也没有？\n",
      "*  这一年：小健新还要不认识了上了他这他也不会。\n",
      "*  啸桐在这里一个蓝布喜欢不来他家里在一起了来真在那里里上咐坐。\n"
     ]
    }
   ],
   "source": [
    "def generate_sentence(topk):\n",
    "    word_ids = [word2id(START)]\n",
    "\n",
    "    for i in range(100):  # 为句长设个上限\n",
    "        context = np.asarray(word_ids).reshape(1, -1)\n",
    "        probs_val = sess.run(probs_next_word, feed_dict={inputs: context})\n",
    "        \n",
    "        topk_indices = probs_val.argsort()[-topk:][::-1]\n",
    "        topk_probs = [probs_val[i] for i in topk_indices]\n",
    "        \n",
    "        for j in range(100):  # 为尝试次数设个上限\n",
    "            # 从概率最大的 topk 个词中随机抽取\n",
    "            new_id = np.random.choice(topk_indices, p=topk_probs/sum(topk_probs))\n",
    "            new_word = vocab[new_id]\n",
    "            if new_word not in VOCAB_SPECIAL:\n",
    "                break\n",
    "\n",
    "        word_ids.append(new_id)\n",
    "        if new_word in END_PUNC:\n",
    "            break\n",
    "\n",
    "    sentence = [vocab[i] for i in word_ids]\n",
    "    return ''.join(sentence[1:])\n",
    "\n",
    "for i in range(5):\n",
    "    print('* ', generate_sentence(topk=20))"
   ]
  },
  {
   "cell_type": "markdown",
   "metadata": {
    "collapsed": true,
    "deletable": true,
    "editable": true
   },
   "source": [
    "### ChangeLog\n",
    "\n",
    "* VanillaRNN.v0:\n",
    "    * 生成样例(topk=5):\n",
    "        *  世钧也在茶杯难为情去看看。\n",
    "        *  这你也也没有能。\n",
    "        *  说了—，他们小姐不知道叔惠见她是他母亲便和世钧来到那里。\n",
    "        *  这你也是因为面前什么？\n",
    "        *  曼桢，叔惠的样子筷子看着世钧道火车给她是。\n",
    "    * 从全部词表随机抽词时, 会抽出很奇怪的结果. 每步只抽概率 topk 的词, 效果要好一些.\n",
    "    * 为啥 sigmoid 得到的 probs_val 求和不等于1?\n",
    "    * 计算效率需要优化. 试图读入 10w 字时, notebook 会死掉. 这里的 sigmoid 能不能用 nce_loss 呢?\n",
    "    * tf 的张量操作还不够熟悉, 有些张量操作应能用更简洁的方式实现\n",
    "* LSTM.v0\n",
    "    * 把 `tf.contrib.rnn.BasicRNNCell` 换成 `tf.contrib.rnn.BasicLSTMCell` 就可以了\n",
    "    * 生成样例(topk=5):\n",
    "        *  世钧的都相当多！\n",
    "        *  曼桢也有点拘束事着，她倒是一个姨太太欠身向来也是这样的的一个人出去。\n",
    "        *  世钧又要，他有一个孩子，他母亲也在那里。\n",
    "        *  他倒是个狗上。\n",
    "        *  她母亲笑起来去，他也没有他，世钧也知道她的气起来？\n",
    "    * 生成样例(topk=20):\n",
    "        *  但是因为再去在这一阵嘭笑声旧一趟很知道他自己道身上便在这儿一看不停。\n",
    "        *  沈父亲又觉得太空了么嫂嫂！\n",
    "        *  世钧道南京人？\n",
    "        *  啸桐说她那个结果脾气进来水—我看看，他有是有点事；很高兴什么表示好几天到南京。\n",
    "        *  在这里：爸爸刚才不去，怎么了一会么向来不会说了出来点怎么来见看看吧当差？\n",
    "    * 另外, 词向量维数和 cell size 由30调到60, 没有明显效果.\n",
    "* 下一步:\n",
    "    * maybe: 更多语料 / 字模型 / ...\n",
    "* 其他疑问:\n",
    "    * tf.nn.dynamic_rnn 方法的 initial_state 参数默认为0, 是否意味着它会自动初始化一个 0 状态?"
   ]
  }
 ],
 "metadata": {
  "kernelspec": {
   "display_name": "Python 3",
   "language": "python",
   "name": "python3"
  },
  "language_info": {
   "codemirror_mode": {
    "name": "ipython",
    "version": 3
   },
   "file_extension": ".py",
   "mimetype": "text/x-python",
   "name": "python",
   "nbconvert_exporter": "python",
   "pygments_lexer": "ipython3",
   "version": "3.4.3"
  },
  "toc": {
   "colors": {
    "hover_highlight": "#DAA520",
    "running_highlight": "#FF0000",
    "selected_highlight": "#FFD700"
   },
   "moveMenuLeft": true,
   "nav_menu": {
    "height": "154px",
    "width": "252px"
   },
   "navigate_menu": true,
   "number_sections": false,
   "sideBar": true,
   "threshold": 4,
   "toc_cell": false,
   "toc_position": {
    "height": "1713px",
    "left": "0px",
    "right": "1921.34px",
    "top": "106px",
    "width": "129px"
   },
   "toc_section_display": "block",
   "toc_window_display": false,
   "widenNotebook": false
  }
 },
 "nbformat": 4,
 "nbformat_minor": 2
}

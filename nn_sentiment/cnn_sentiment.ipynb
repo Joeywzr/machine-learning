{
 "cells": [
  {
   "cell_type": "markdown",
   "metadata": {
    "deletable": true,
    "editable": true
   },
   "source": [
    "## 卷积神经网络实现文本情感分类"
   ]
  },
  {
   "cell_type": "code",
   "execution_count": 1,
   "metadata": {
    "collapsed": false,
    "deletable": true,
    "editable": true
   },
   "outputs": [
    {
     "name": "stdout",
     "output_type": "stream",
     "text": [
      "CPython 3.4.3\n",
      "IPython 5.3.0\n",
      "\n",
      "tensorflow 1.0.1\n",
      "numpy 1.12.0\n",
      "\n",
      "compiler   : GCC 4.8.4\n",
      "system     : Linux\n",
      "release    : 4.9.8-moby\n",
      "machine    : x86_64\n",
      "processor  : x86_64\n",
      "CPU cores  : 4\n",
      "interpreter: 64bit\n"
     ]
    }
   ],
   "source": [
    "%load_ext watermark\n",
    "%watermark -p tensorflow,numpy -v -m"
   ]
  },
  {
   "cell_type": "code",
   "execution_count": 2,
   "metadata": {
    "collapsed": true,
    "deletable": true,
    "editable": true
   },
   "outputs": [],
   "source": [
    "%matplotlib inline\n",
    "from collections import Counter\n",
    "import time\n",
    "import jieba\n",
    "import numpy as np\n",
    "import matplotlib.pyplot as plt\n",
    "import tensorflow as tf"
   ]
  },
  {
   "cell_type": "markdown",
   "metadata": {
    "deletable": true,
    "editable": true
   },
   "source": [
    "### 语料处理\n",
    "\n",
    "* 去除空格/数字/部分标点/少量stopwords\n",
    "* 变长度的句子不便作为神经网络的输入, 因此需先处理为固定长度. 超过固定长度的, 直接截断; 小于固定长度的, 用 padding 补齐.\n",
    "* 将词转换为词序号\n",
    "* 与 ch5 task1 (nn_sentiment.ipynb) 的区别是, 语料由四个文件变成了两个文件."
   ]
  },
  {
   "cell_type": "code",
   "execution_count": 3,
   "metadata": {
    "collapsed": true,
    "deletable": true,
    "editable": true
   },
   "outputs": [],
   "source": [
    "IGNORE = ' \\n'  # 忽略的字符\n",
    "DOC_LENGTH = 20  # 预设的固定句子长度\n",
    "PADDING = '<PD>'  # 句子长度不足时的占位符\n",
    "\n",
    "def read_docs_and_labels(file):\n",
    "    \"\"\"从文件读取样本, 去除忽略字符, 得到句子和标签列表\"\"\"    \n",
    "    with open(file, encoding='utf-8') as f:\n",
    "        lines = f.readlines()\n",
    "    \n",
    "    docs, labels = [], []\n",
    "    for line in lines:\n",
    "        text, label = line.split('\\t')\n",
    "\n",
    "        words_in_doc = []\n",
    "        for word in jieba.cut(text):\n",
    "            if (word not in IGNORE) and (not word.isdigit()):\n",
    "                words_in_doc.append(word)\n",
    "\n",
    "        docs.append(words_in_doc)\n",
    "        labels.append(int(label.strip()))\n",
    "\n",
    "    return docs, labels\n",
    "\n",
    "def fix_doc_length(docs):\n",
    "    \"\"\"将所有样本的词列表调整为固定长度\"\"\"\n",
    "    for i in range(len(docs)):\n",
    "        if len(docs[i]) < DOC_LENGTH:\n",
    "            docs[i].extend([PADDING] * (DOC_LENGTH - len(docs[i])))\n",
    "        else:\n",
    "            docs[i] = docs[i][:DOC_LENGTH]\n",
    "    return docs\n",
    "\n",
    "def get_word_counter(docs):\n",
    "    flat_words = [w for doc in docs for w in doc]\n",
    "    return Counter(flat_words)\n",
    "\n",
    "def build_vocab(word_cnt, limit=3):\n",
    "    \"\"\"建立词表, 仅计入出现次数超过设定值(默认为3)的词\"\"\"\n",
    "    vocab = ['UNK']\n",
    "    for word, count in word_cnt.most_common():\n",
    "        if count > limit:\n",
    "            vocab.append(word)\n",
    "        else:\n",
    "            break\n",
    "    return vocab"
   ]
  },
  {
   "cell_type": "code",
   "execution_count": 4,
   "metadata": {
    "collapsed": false,
    "deletable": true,
    "editable": true
   },
   "outputs": [
    {
     "name": "stderr",
     "output_type": "stream",
     "text": [
      "Building prefix dict from the default dictionary ...\n",
      "Loading model from cache /tmp/jieba.cache\n",
      "Loading model cost 0.742 seconds.\n",
      "Prefix dict has been built succesfully.\n"
     ]
    },
    {
     "name": "stdout",
     "output_type": "stream",
     "text": [
      "** vocab_size = 7024 **\n"
     ]
    }
   ],
   "source": [
    "train_file = 'train_shuffle.txt'\n",
    "test_file = 'test_shuffle.txt'\n",
    "\n",
    "train_docs, train_labels = read_docs_and_labels(train_file)\n",
    "test_docs, test_labels = read_docs_and_labels(test_file)\n",
    "\n",
    "train_docs = fix_doc_length(train_docs)\n",
    "test_docs = fix_doc_length(test_docs)\n",
    "\n",
    "# 由训练样本集建立词表\n",
    "word_cnt = get_word_counter(train_docs)\n",
    "vocab = build_vocab(word_cnt)\n",
    "vocab_size = len(vocab)\n",
    "idx_dict = dict(zip(vocab, range(vocab_size)))  # 由词映射到词序号的字典\n",
    "print('** vocab_size = {} **'.format(vocab_size))"
   ]
  },
  {
   "cell_type": "code",
   "execution_count": 5,
   "metadata": {
    "collapsed": false,
    "deletable": true,
    "editable": true
   },
   "outputs": [
    {
     "name": "stdout",
     "output_type": "stream",
     "text": [
      "[('<PD>', 64051), ('，', 36572), ('的', 22834), ('。', 10025), ('了', 8714), (',', 6448), ('是', 6313), ('很', 5024), ('我', 4928), ('酒店', 4025), ('也', 3160), ('在', 2961), ('不错', 2915), ('不', 2885), ('房间', 2863), ('.', 2612), ('！', 2595), ('有', 2562), ('好', 2522), ('都', 2461), ('还', 2449), ('没有', 2326), ('就', 2264), ('、', 1976), ('这', 1922), ('和', 1773), ('比较', 1707), ('：', 1548), ('看', 1532), ('服务', 1515), ('买', 1499), ('感觉', 1477), ('可以', 1468), ('本书', 1309), ('住', 1287), ('非常', 1284), ('就是', 1240), ('到', 1233), ('还是', 1225), ('用', 1198), ('入住', 1188), ('说', 1178), ('月', 1171), ('书', 1066), ('一个', 1046), ('但', 1037), ('系统', 1005), ('这个', 1003), ('日', 959), ('有点', 941)]\n"
     ]
    }
   ],
   "source": [
    "print(word_cnt.most_common(50))"
   ]
  },
  {
   "cell_type": "code",
   "execution_count": 6,
   "metadata": {
    "collapsed": true,
    "deletable": true,
    "editable": true
   },
   "outputs": [],
   "source": [
    "def docs2idxes(docs):\n",
    "    \"\"\"把词列表的列表转换为序号列表的列表\"\"\"\n",
    "    idxes = []\n",
    "    for doc in docs:\n",
    "        idxes_of_one_doc = []\n",
    "        for word in doc:\n",
    "            idx = idx_dict[word] if (word in vocab) else 0\n",
    "            idxes_of_one_doc.append(idx)\n",
    "        idxes.append(idxes_of_one_doc)\n",
    "    return idxes\n",
    "\n",
    "train_idxes = docs2idxes(train_docs)\n",
    "inputs_train = np.asarray(train_idxes)\n",
    "labels_train = np.asarray(train_labels)\n",
    "\n",
    "test_idxes = docs2idxes(test_docs)\n",
    "inputs_test = np.asarray(test_idxes)\n",
    "labels_test = np.asarray(test_labels)"
   ]
  },
  {
   "cell_type": "code",
   "execution_count": 7,
   "metadata": {
    "collapsed": false,
    "deletable": true,
    "editable": true
   },
   "outputs": [
    {
     "data": {
      "text/plain": [
       "((24586, 20), (24586,), (10538, 20), (10538,))"
      ]
     },
     "execution_count": 7,
     "metadata": {},
     "output_type": "execute_result"
    }
   ],
   "source": [
    "inputs_train.shape, labels_train.shape, inputs_test.shape, labels_test.shape"
   ]
  },
  {
   "cell_type": "markdown",
   "metadata": {
    "deletable": true,
    "editable": true
   },
   "source": [
    "### 定义神经网络\n",
    "\n",
    "输入词序号 -> 词向量 -> 卷积层(tanh) -> pool 层 -> 全连接层(sigmoid) -> 输出分类"
   ]
  },
  {
   "cell_type": "code",
   "execution_count": 8,
   "metadata": {
    "collapsed": true,
    "deletable": true,
    "editable": true
   },
   "outputs": [],
   "source": [
    "word_embed_size = 30\n",
    "filter_num = 30\n",
    "window_size = 3"
   ]
  },
  {
   "cell_type": "code",
   "execution_count": 9,
   "metadata": {
    "collapsed": false,
    "deletable": true,
    "editable": true
   },
   "outputs": [
    {
     "data": {
      "text/plain": [
       "(<tf.Tensor 'embedding_lookup:0' shape=(?, 20, 30) dtype=float32>,\n",
       " <tf.Tensor 'ExpandDims:0' shape=(?, 20, 30, 1) dtype=float32>)"
      ]
     },
     "execution_count": 9,
     "metadata": {},
     "output_type": "execute_result"
    }
   ],
   "source": [
    "# 随机生成词向量\n",
    "tf.reset_default_graph()\n",
    "W = tf.Variable(tf.random_uniform([vocab_size, word_embed_size], -1.0, 1.0), name=\"W\")\n",
    "\n",
    "inputs = tf.placeholder(tf.int32, shape=[None, DOC_LENGTH], name='inputs')\n",
    "labels = tf.placeholder(tf.int32, shape=[None], name='labels')\n",
    "\n",
    "embeds = tf.nn.embedding_lookup(W, inputs)\n",
    "\n",
    "# 为了适应 conv2d 的参数，拓展了一个维度 (in_channel)，长度是 1\n",
    "embeds_expand = tf.expand_dims(embeds, -1)\n",
    "embeds, embeds_expand"
   ]
  },
  {
   "cell_type": "code",
   "execution_count": 10,
   "metadata": {
    "collapsed": false,
    "deletable": true,
    "editable": true
   },
   "outputs": [
    {
     "data": {
      "text/plain": [
       "(<tf.Tensor 'conv-maxpool/conv:0' shape=(?, 18, 1, 30) dtype=float32>,\n",
       " <tf.Tensor 'conv-maxpool/tanh:0' shape=(?, 18, 1, 30) dtype=float32>,\n",
       " <tf.Tensor 'conv-maxpool/pool:0' shape=(?, 1, 1, 30) dtype=float32>)"
      ]
     },
     "execution_count": 10,
     "metadata": {},
     "output_type": "execute_result"
    }
   ],
   "source": [
    "# 构建 conv 层 + pool 层\n",
    "with tf.name_scope(\"conv-maxpool\"):\n",
    "    filter_shape = [window_size, word_embed_size, 1, filter_num]\n",
    "    # W 和 b 是卷积的参数\n",
    "    W = tf.Variable(tf.random_uniform(filter_shape, -1.0, 1.0), name=\"W\")\n",
    "    # bias 和 filter_num 个数是一样的\n",
    "    b = tf.Variable(tf.constant(0.0, shape=[filter_num]), name=\"b\")\n",
    "    # 步长为1，这里不做 Padding，因此句子太短的话可能要丢掉。可自行尝试加 padding\n",
    "    conv = tf.nn.conv2d(\n",
    "        embeds_expand, W, strides=[1, 1, 1, 1],\n",
    "        padding=\"VALID\", name=\"conv\")\n",
    "\n",
    "    # 卷积出来的结果加上 bias\n",
    "    conv_hidden = tf.nn.tanh(tf.add(conv, b), name=\"tanh\")\n",
    "\n",
    "    # 因为没有 padding，出来的结果个数是 sequence_length - window_size + 1\n",
    "    # 如果加了 padding 这里要对应更改\n",
    "    pool = tf.nn.max_pool(\n",
    "        conv_hidden,\n",
    "        ksize=[1, DOC_LENGTH - window_size + 1, 1, 1],\n",
    "        strides=[1, 1, 1, 1],\n",
    "        padding='VALID',\n",
    "        name=\"pool\")\n",
    "\n",
    "conv, conv_hidden, pool"
   ]
  },
  {
   "cell_type": "markdown",
   "metadata": {
    "deletable": true,
    "editable": true
   },
   "source": [
    "\n",
    "童老师提示:\n",
    "> 目前 tensorflow 还不支持动态 max_pool size，所以 ksize 只能用常数固定，\n",
    "> 因为不同句子 sequence_length 不一样，因此目前这里目前还没法做到处理边长句子。  \n",
    "> 一个解决方案是用人工 Padding 的方式，根据语料中最长的句子的长度来扩展所有句子，归一化到统一的长度。即所有句子都通过 Padding 一个特殊符号的方式，扩展为固定长度。\n",
    "> **注意这个是 Tensorflow 目前的限制**，用其他一些支持动态 max_pool 的库不需要 padding。事实上这也会造成计算量的浪费。"
   ]
  },
  {
   "cell_type": "code",
   "execution_count": 11,
   "metadata": {
    "collapsed": false,
    "deletable": true,
    "editable": true
   },
   "outputs": [
    {
     "data": {
      "text/plain": [
       "(TensorShape([Dimension(None), Dimension(2)]), (24586,))"
      ]
     },
     "execution_count": 11,
     "metadata": {},
     "output_type": "execute_result"
    }
   ],
   "source": [
    "squeezed_pool = tf.squeeze(pool, [1, 2])\n",
    "raw_output = tf.layers.dense(squeezed_pool, 2)\n",
    "output = tf.nn.softmax(raw_output)\n",
    "raw_output.shape, labels_train.shape"
   ]
  },
  {
   "cell_type": "code",
   "execution_count": 12,
   "metadata": {
    "collapsed": true,
    "deletable": true,
    "editable": true
   },
   "outputs": [],
   "source": [
    "cost = tf.reduce_mean(\n",
    "    tf.nn.sparse_softmax_cross_entropy_with_logits(\n",
    "        logits=raw_output, labels=labels))"
   ]
  },
  {
   "cell_type": "markdown",
   "metadata": {
    "collapsed": true,
    "deletable": true,
    "editable": true
   },
   "source": [
    "### 训练\n",
    "\n",
    "* 随机梯度下降, 每个训练步读一个样本\n"
   ]
  },
  {
   "cell_type": "code",
   "execution_count": 13,
   "metadata": {
    "collapsed": true,
    "deletable": true,
    "editable": true
   },
   "outputs": [],
   "source": [
    "def evaluate_model(sess, inputs_, labels_, print_matrix=False):\n",
    "    \"\"\"评估模型指标, 并打印输出\"\"\"\n",
    "    pred_prob = sess.run(output, feed_dict={inputs:inputs_, labels:labels_})\n",
    "    preds = np.asarray((pred_prob[:, 1] > 0.5), dtype=int)\n",
    "    mat = sess.run(tf.confusion_matrix(labels_, preds))\n",
    "    tn, fp, fn, tp = mat.reshape(4)\n",
    "    precision = tp / (tp + fp)\n",
    "    recall = tp / (tp + fn)\n",
    "    if print_matrix:\n",
    "        print(' confusion matrix:\\n', mat)\n",
    "    print(' precision {:.3f}, recall {:.3f}'.format(precision, recall))\n",
    "    # return preds, mat, precision, recall"
   ]
  },
  {
   "cell_type": "code",
   "execution_count": 19,
   "metadata": {
    "collapsed": false,
    "deletable": true,
    "editable": true,
    "scrolled": false
   },
   "outputs": [
    {
     "name": "stdout",
     "output_type": "stream",
     "text": [
      "round 000 cost: train 1.79844 / test 1.79639\n",
      " precision nan, recall 0.000\n"
     ]
    },
    {
     "name": "stderr",
     "output_type": "stream",
     "text": [
      "/usr/local/lib/python3.4/dist-packages/ipykernel/__main__.py:7: RuntimeWarning: invalid value encountered in int_scalars\n"
     ]
    },
    {
     "name": "stdout",
     "output_type": "stream",
     "text": [
      "round 010 cost: train 0.15011 / test 0.56878\n",
      " precision 0.800, recall 0.866\n",
      "round 020 cost: train 0.02440 / test 0.73127\n",
      " precision 0.892, recall 0.868\n",
      "round 030 cost: train 0.01742 / test 0.82138\n",
      " precision 0.893, recall 0.869\n",
      "round 040 cost: train 0.01290 / test 0.86818\n",
      " precision 0.895, recall 0.877\n",
      "round 050 cost: train 0.01004 / test 0.90180\n",
      " precision 0.896, recall 0.879\n",
      "round 060 cost: train 0.00866 / test 0.93072\n",
      " precision 0.896, recall 0.882\n",
      "round 070 cost: train 0.00754 / test 0.94952\n",
      " precision 0.895, recall 0.883\n",
      "round 080 cost: train 0.00626 / test 0.96319\n",
      " precision 0.894, recall 0.886\n",
      "round 090 cost: train 0.00573 / test 0.98319\n",
      " precision 0.895, recall 0.883\n",
      "Interrupted\n",
      "\n",
      "time: 105.17 s\n"
     ]
    }
   ],
   "source": [
    "batch_size = 100\n",
    "epochs = 2000\n",
    "print_cost_every = 10\n",
    "learning_rate = 1\n",
    "\n",
    "feed_train = {inputs: inputs_train, labels: labels_train}\n",
    "feed_test = {inputs: inputs_test, labels: labels_test}\n",
    "\n",
    "sess = tf.Session()\n",
    "sess.run(tf.global_variables_initializer())\n",
    "train_step = tf.train.GradientDescentOptimizer(learning_rate).minimize(cost)\n",
    "\n",
    "costs_train = []\n",
    "costs_test = []\n",
    "start_time = time.time()\n",
    "\n",
    "num_inputs = len(labels_train)\n",
    "order = np.arange(num_inputs)\n",
    "np.random.shuffle(order)\n",
    "\n",
    "try:\n",
    "    for i in range(epochs):\n",
    "        if i % print_cost_every == 0:\n",
    "            cost_train = sess.run(cost, feed_dict=feed_train)\n",
    "            cost_test = sess.run(cost, feed_dict=feed_test)\n",
    "            costs_train.append(cost_train)\n",
    "            costs_test.append(cost_test)\n",
    "            print('epoch {:03d} cost: train {:.5f} / test {:.5f}'.format(\n",
    "                i, cost_train, cost_test))\n",
    "            evaluate_model(sess, inputs_test, labels_test)\n",
    " \n",
    "        for j in range(0, num_inputs, batch_size):\n",
    "            batch_index = order[j: j + batch_size]\n",
    "            batch_inputs = inputs_train[batch_index]\n",
    "            batch_labels = labels_train[batch_index]\n",
    "            batch_feed = {inputs: batch_inputs, labels: batch_labels}\n",
    "            sess.run(train_step, feed_dict=batch_feed)\n",
    "except KeyboardInterrupt:\n",
    "    print('Interrupted')\n",
    "finally:\n",
    "    end_time = time.time()\n",
    "    print('\\ntime: {:.2f} s'.format(end_time - start_time))"
   ]
  },
  {
   "cell_type": "code",
   "execution_count": 20,
   "metadata": {
    "collapsed": false,
    "deletable": true,
    "editable": true
   },
   "outputs": [
    {
     "data": {
      "image/png": "[encoded data removed]",
      "text/plain": [
       "<matplotlib.figure.Figure at 0x7fcbab7be588>"
      ]
     },
     "metadata": {},
     "output_type": "display_data"
    }
   ],
   "source": [
    "plt.plot(costs_train, label='train cost')\n",
    "plt.plot(costs_test, label='test cost')\n",
    "plt.legend();"
   ]
  },
  {
   "cell_type": "markdown",
   "metadata": {
    "deletable": true,
    "editable": true
   },
   "source": [
    "### 评估\n"
   ]
  },
  {
   "cell_type": "code",
   "execution_count": 21,
   "metadata": {
    "collapsed": false,
    "deletable": true,
    "editable": true
   },
   "outputs": [
    {
     "name": "stdout",
     "output_type": "stream",
     "text": [
      "\n",
      "** train set **\n",
      " confusion matrix:\n",
      " [[12984    19]\n",
      " [   48 11535]]\n",
      " precision 0.998, recall 0.996\n",
      "\n",
      "** test set **\n",
      " confusion matrix:\n",
      " [[5069  504]\n",
      " [ 587 4378]]\n",
      " precision 0.897, recall 0.882\n"
     ]
    }
   ],
   "source": [
    "print('\\n** train set **')\n",
    "evaluate_model(sess, inputs_train, labels_train, print_matrix=True)\n",
    "print('\\n** test set **')\n",
    "evaluate_model(sess, inputs_test, labels_test, print_matrix=True);"
   ]
  },
  {
   "cell_type": "markdown",
   "metadata": {
    "deletable": true,
    "editable": true
   },
   "source": [
    "### ChangeLog\n",
    "\n",
    "* v-pre\n",
    "    * 条件: 句长 20, 词向量维数 30, filter_num = 15, window size = 3\n",
    "    * 结果:\n",
    "        * train: precision 0.982, recall 0.648\n",
    "        * test: precision 0.920, recall 0.566\n",
    "    * 分析: 训练集都没拟合好, 模型偏 high-bias. 尝试增加参数.\n",
    "* v0\n",
    "    * v-pre -> filter_num 15->30\n",
    "    * 结果\n",
    "        * train: precision 0.825, recall 0.823\n",
    "        * test: precision 0.752, recall 0.780\n",
    "    * 分析: 增加 filter_num 改善了 recall. 但模型仍然偏 high-bias.\n",
    "* v0a\n",
    "    * v0 -> 词向量维数 30->60\n",
    "    * 结果\n",
    "        * train: precision 0.817, recall 0.791\n",
    "        * test: precision 0.761, recall 0.746\n",
    "    * 分析: 没效果. 突然想到: 忽略标点和少数极高频词是否影响了小特征的捕捉?\n",
    "* v1\n",
    "    * v0 -> **不忽略标点和少数极高频词**, 学习率 0.1->0.03\n",
    "    * 结果\n",
    "        * train: precision 0.987, recall 0.984\n",
    "        * test: precision 0.906, recall 0.905\n",
    "* v2\n",
    "    * 改用小批量梯度下降\n",
    "    * 结果\n",
    "        * train: precision 0.996, recall 0.997\n",
    "        * test: precision 0.881, recall 0.881\n",
    "* v2a\n",
    "    * v2 的学习率选得太小了! \n",
    "    * 学习率, 从 0.03 增大到 1, 训练时间从 20+ 分钟减少到 不到2分钟...\n",
    "* 其他改进方向\n",
    "    * 补 padding, 应能提高短句的准确率"
   ]
  },
  {
   "cell_type": "markdown",
   "metadata": {
    "deletable": true,
    "editable": true
   },
   "source": [
    "### 小结\n",
    "\n",
    "常规神经网络的特点就在于, ... 没有特点. 它没有进行特别的优化, 每层神经元与上一层都是完全连接, 导致模型的参数很多, 容易出现过拟合. CNNs 则采用了一种非常巧妙的方法. 在图像处理问题上, CNNs 非常符合直觉, 比如: \n",
    "* 位置不变性 (location invariance): 一个特征无论出现在何处, 都会以同样的方式被捕捉到.\n",
    "* compositionality: 小的特征一级一级向上组成大的特征.\n",
    "\n",
    "在 NLP 领域, 这两种特点并不那么符合直觉. 但实践证明, 它的表现相当好. CNNs 至少有两大优点:\n",
    "* 快\n",
    "* 在模型表现(representation)上很高效 (相比 n-grams)\n",
    "\n",
    "CNNs 模型调校的难点在于, 它有较多超参数需要确定. 比如: \n",
    "* input representations\n",
    "* filter 的数量和尺寸\n",
    "* 是否做 zero padding\n",
    "* 步长(stride size)\n",
    "* pooling 方式 (max 一般优于 average)\n",
    "* 激活函数\n",
    "* 正则化参数\n",
    "* ...\n",
    "\n",
    "[这篇论文](https://arxiv.org/abs/1510.03820) 对不同超参数如何取值进行了研究, 给出了一些实用建议. 需要搭建一个 CNNs 时, 可以从此文推荐的 baseline configuration 开始.\n",
    "\n",
    "### 参考\n",
    "\n",
    "* [udacity Deep Learning - CNNs](https://classroom.udacity.com/courses/ud730/lessons/6377263405/concepts/66010388990923#)\n",
    "    * 直观易懂\n",
    "* [Understanding Convolutional Neural Networks for NLP – WildML](http://www.wildml.com/2015/11/understanding-convolutional-neural-networks-for-nlp)\n",
    "    * 童老师课上打开过这篇文章. 清晰明白, 比较简洁. 文章最后介绍了几篇经典论文.\n",
    "* [CS231n Convolutional Neural Networks for Visual Recognition](http://cs231n.github.io/convolutional-networks/)\n",
    "    * 内容多而全. 我只看了 Overview 和 Convolutional Layer 这两部分."
   ]
  }
 ],
 "metadata": {
  "kernelspec": {
   "display_name": "Python 3",
   "language": "python",
   "name": "python3"
  },
  "language_info": {
   "codemirror_mode": {
    "name": "ipython",
    "version": 3
   },
   "file_extension": ".py",
   "mimetype": "text/x-python",
   "name": "python",
   "nbconvert_exporter": "python",
   "pygments_lexer": "ipython3",
   "version": "3.4.3"
  }
 },
 "nbformat": 4,
 "nbformat_minor": 2
}

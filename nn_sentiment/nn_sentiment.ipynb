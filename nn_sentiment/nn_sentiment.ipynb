{
 "cells": [
  {
   "cell_type": "markdown",
   "metadata": {
    "deletable": true,
    "editable": true
   },
   "source": [
    "## 神经网络实现文本情感分类\n",
    "\n",
    "\n",
    "### 运行环境\n",
    "\n",
    "docker image `tensorflow/tensorflow`, Python 3.4.3"
   ]
  },
  {
   "cell_type": "code",
   "execution_count": 1,
   "metadata": {
    "collapsed": false,
    "deletable": true,
    "editable": true
   },
   "outputs": [
    {
     "name": "stdout",
     "output_type": "stream",
     "text": [
      "1.0.1\n"
     ]
    }
   ],
   "source": [
    "%matplotlib inline\n",
    "from collections import Counter\n",
    "import time\n",
    "\n",
    "import jieba\n",
    "import numpy as np\n",
    "import matplotlib.pyplot as plt\n",
    "import tensorflow as tf\n",
    "print(tf.__version__)"
   ]
  },
  {
   "cell_type": "markdown",
   "metadata": {
    "deletable": true,
    "editable": true
   },
   "source": [
    "### 语料处理\n",
    "\n",
    "* 去除空格/数字/部分标点/少量stopwords\n",
    "    * 目的是不让这些与情感色彩无关的数据稀释了有效信息\n",
    "* 变长度的句子不便作为神经网络的输入, 因此需先处理为固定长度. \n",
    "    * 超过固定长度的, 直接截断; 小于固定长度的, 用 padding 补齐.\n",
    "* 将词转换为词序号\n"
   ]
  },
  {
   "cell_type": "code",
   "execution_count": 2,
   "metadata": {
    "collapsed": false,
    "deletable": true,
    "editable": true
   },
   "outputs": [],
   "source": [
    "IGNORE = ' \\n，。、：,的了是我很在都有就'  # 忽略的字符\n",
    "DOC_LENGTH = 20  # 预设的固定句子长度\n",
    "PADDING = '<PD>'  # 句子长度不足时的占位符\n",
    "\n",
    "def read_data(file):\n",
    "    \"\"\"从文件读取样本, 去除忽略字符, 得到二维词列表\n",
    "    args: file - 文件名\n",
    "    returns: docs - 各样本的词列表\"\"\"\n",
    "    docs = []\n",
    "    with open(file, encoding='utf-8') as f:\n",
    "        lines = f.readlines()\n",
    "    for line in lines:\n",
    "        words = []\n",
    "        for word in jieba.cut(line):\n",
    "            if (word not in IGNORE) and not word.isdigit():\n",
    "                words.append(word)\n",
    "        docs.append(words)\n",
    "    return docs\n",
    "\n",
    "def fix_length(docs):\n",
    "    \"\"\"将所有样本的词列表调整为固定长度\"\"\"\n",
    "    for i in range(len(docs)):\n",
    "        if len(docs[i]) < DOC_LENGTH:\n",
    "            docs[i].extend([PADDING] * (DOC_LENGTH - len(docs[i])))\n",
    "        else:\n",
    "            docs[i] = docs[i][:DOC_LENGTH]\n",
    "    # assert all([len(d) == DOC_LENGTH for d in docs])\n",
    "    return docs\n",
    "\n",
    "def get_word_counter(docs):\n",
    "    all_words = [w for doc in docs for w in doc]  # flatten the list\n",
    "    return Counter(all_words)\n",
    "\n",
    "def build_vocab(word_cnt, limit=3):\n",
    "    \"\"\"建立词表, 仅计入出现次数超过设定值(默认为3)的词\"\"\"\n",
    "    vocab = ['UNK']\n",
    "    for i in word_cnt.most_common():\n",
    "        if i[1] > limit:\n",
    "            vocab.append(i[0])\n",
    "        else:\n",
    "            break\n",
    "    return vocab"
   ]
  },
  {
   "cell_type": "code",
   "execution_count": 3,
   "metadata": {
    "collapsed": false,
    "deletable": true,
    "editable": true
   },
   "outputs": [
    {
     "name": "stderr",
     "output_type": "stream",
     "text": [
      "Building prefix dict from the default dictionary ...\n",
      "Loading model from cache /tmp/jieba.cache\n",
      "Loading model cost 0.742 seconds.\n",
      "Prefix dict has been built succesfully.\n"
     ]
    },
    {
     "data": {
      "text/plain": [
       "8311"
      ]
     },
     "execution_count": 3,
     "metadata": {},
     "output_type": "execute_result"
    }
   ],
   "source": [
    "basedir = '../ch2/_corpus/'\n",
    "keys = ('pos_train', 'neg_train', 'pos_test', 'neg_test')\n",
    "\n",
    "files = {k: basedir + k + '.txt' for k in keys}\n",
    "docs = {k: read_data(files[k]) for k in keys}\n",
    "\n",
    "train_docs = docs['pos_train'] + docs['neg_train']\n",
    "train_docs = fix_length(train_docs)\n",
    "train_labels = [1] * len(docs['pos_train']) + [0] * len(docs['neg_train'])\n",
    "\n",
    "test_docs = docs['pos_test'] + docs['neg_test']\n",
    "test_docs = fix_length(test_docs)\n",
    "test_labels = [1] * len(docs['pos_test']) + [0] * len(docs['neg_test'])\n",
    "\n",
    "# 由训练样本集建立词表\n",
    "word_cnt = get_word_counter(train_docs)\n",
    "vocab = build_vocab(word_cnt)\n",
    "vocab_size = len(vocab)\n",
    "idx_dict = dict(zip(vocab, range(vocab_size)))  # 由词映射到词序号的字典\n",
    "vocab_size"
   ]
  },
  {
   "cell_type": "code",
   "execution_count": 4,
   "metadata": {
    "collapsed": false,
    "deletable": true,
    "editable": true,
    "scrolled": true
   },
   "outputs": [
    {
     "name": "stdout",
     "output_type": "stream",
     "text": [
      "[('<PD>', 100462), ('酒店', 4574), ('也', 4246), ('不', 3666), ('！', 3520), ('不错', 3378), ('房间', 3317), ('.', 3225), ('好', 3063), ('还', 3008), ('没有', 2922), ('这', 2261), ('和', 2215), ('比较', 2015), ('看', 1900), ('可以', 1882), ('感觉', 1823), ('服务', 1784), ('买', 1781), ('还是', 1578), ('到', 1558), ('本书', 1530), ('非常', 1515), ('就是', 1514), ('住', 1510), ('说', 1503), ('用', 1476), ('一个', 1390), ('但', 1330), ('入住', 1308), ('书', 1283), ('月', 1219), ('这个', 1216), ('去', 1196), ('要', 1195), ('人', 1188), ('但是', 1175), ('系统', 1155), ('有点', 1133), ('给', 1116), ('没', 1112), ('一般', 1064), ('上', 1058), ('对', 1056), ('我们', 1046), ('价格', 1031), ('喜欢', 1019), ('不是', 1004), ('日', 983), ('太', 956)]\n"
     ]
    }
   ],
   "source": [
    "print(word_cnt.most_common(50))"
   ]
  },
  {
   "cell_type": "code",
   "execution_count": 5,
   "metadata": {
    "collapsed": false,
    "deletable": true,
    "editable": true
   },
   "outputs": [],
   "source": [
    "def docs2idxes(docs):\n",
    "    \"\"\"把词列表的列表转换为序号列表的列表\"\"\"\n",
    "    idxes = []\n",
    "    for doc in docs:\n",
    "        idxes_of_one_doc = []\n",
    "        for word in doc:\n",
    "            idx = idx_dict[word] if (word in vocab) else 0\n",
    "            idxes_of_one_doc.append(idx)\n",
    "        idxes.append(idxes_of_one_doc)\n",
    "    return idxes\n",
    "\n",
    "train_idxes = docs2idxes(train_docs)\n",
    "inputs_train = np.asarray(train_idxes)\n",
    "labels_train = np.asarray(train_labels)\n",
    "\n",
    "test_idxes = docs2idxes(test_docs)\n",
    "inputs_test = np.asarray(test_idxes)\n",
    "labels_test = np.asarray(test_labels)"
   ]
  },
  {
   "cell_type": "markdown",
   "metadata": {
    "deletable": true,
    "editable": true
   },
   "source": [
    "### 定义神经网络\n",
    "\n",
    "* 输入: 词序号数组\n",
    "* 中间层: 词向量, 可以再接一个隐层\n",
    "* 输出: 情感分类\n"
   ]
  },
  {
   "cell_type": "code",
   "execution_count": 6,
   "metadata": {
    "collapsed": false,
    "deletable": true,
    "editable": true
   },
   "outputs": [
    {
     "data": {
      "text/plain": [
       "(<tf.Tensor 'embedding_lookup:0' shape=(?, 20, 15) dtype=float32>,\n",
       " <tf.Tensor 'Sum:0' shape=(?, 15) dtype=float32>)"
      ]
     },
     "execution_count": 6,
     "metadata": {},
     "output_type": "execute_result"
    }
   ],
   "source": [
    "word_embedding_dim = 15\n",
    "hidden_dim = 15\n",
    "\n",
    "tf.reset_default_graph()\n",
    "word_embedding = tf.Variable(tf.random_uniform([vocab_size, word_embedding_dim]))\n",
    "inputs = tf.placeholder(tf.int32, shape=[None, DOC_LENGTH], name='inputs')\n",
    "labels = tf.placeholder(tf.int32, shape=[None], name='labels')\n",
    "\n",
    "input_embeds = tf.nn.embedding_lookup(word_embedding, inputs)\n",
    "doc_embeds = tf.reduce_sum(input_embeds, axis=1)  # 样本的\"平均词向量\"\n",
    "input_embeds, doc_embeds"
   ]
  },
  {
   "cell_type": "code",
   "execution_count": 7,
   "metadata": {
    "collapsed": false,
    "deletable": true,
    "editable": true
   },
   "outputs": [
    {
     "data": {
      "text/plain": [
       "(TensorShape([Dimension(None), Dimension(2)]), (24586,))"
      ]
     },
     "execution_count": 7,
     "metadata": {},
     "output_type": "execute_result"
    }
   ],
   "source": [
    "hidden = tf.layers.dense(doc_embeds, hidden_dim, activation=tf.tanh)\n",
    "raw_output = tf.layers.dense(hidden, 2)\n",
    "output = tf.nn.softmax(raw_output)\n",
    "raw_output.shape, labels_train.shape"
   ]
  },
  {
   "cell_type": "code",
   "execution_count": 8,
   "metadata": {
    "collapsed": false,
    "deletable": true,
    "editable": true
   },
   "outputs": [],
   "source": [
    "# cost function, 求 reduce_mean 不是必需\n",
    "cost = tf.reduce_mean(\n",
    "    tf.nn.sparse_softmax_cross_entropy_with_logits(\n",
    "        logits=raw_output, labels=labels))"
   ]
  },
  {
   "cell_type": "markdown",
   "metadata": {
    "deletable": true,
    "editable": true
   },
   "source": [
    "### 训练\n",
    "\n",
    "* 随机梯度下降, 每个训练步读一个样本\n"
   ]
  },
  {
   "cell_type": "code",
   "execution_count": 9,
   "metadata": {
    "collapsed": true,
    "deletable": true,
    "editable": true
   },
   "outputs": [],
   "source": [
    "def evaluate_model(sess, inputs_, labels_, print_matrix=False):\n",
    "    \"\"\"评估模型指标, 并打印输出\"\"\"\n",
    "    pred_prob = sess.run(output, feed_dict={inputs:inputs_, labels:labels_})\n",
    "    preds = np.asarray((pred_prob[:, 1] > 0.5), dtype=int)\n",
    "    mat = sess.run(tf.confusion_matrix(labels_, preds))\n",
    "    tn, fp, fn, tp = mat.reshape(4)\n",
    "    precision = tp / (tp + fp)\n",
    "    recall = tp / (tp + fn)\n",
    "    if print_matrix:\n",
    "        print(' confusion matrix:\\n', mat)\n",
    "    print(' precision {:.3f}, recall {:.3f}'.format(precision, recall))\n",
    "    # return preds, mat, precision, recall"
   ]
  },
  {
   "cell_type": "code",
   "execution_count": 15,
   "metadata": {
    "collapsed": false,
    "deletable": true,
    "editable": true
   },
   "outputs": [
    {
     "name": "stdout",
     "output_type": "stream",
     "text": [
      "Round 000 cost: train 0.884 / test 0.883\n",
      " precision 0.471, recall 0.991\n",
      "Round 100 cost: train 0.322 / test 0.435\n",
      " precision 0.874, recall 0.720\n",
      "Round 200 cost: train 0.277 / test 0.513\n",
      " precision 0.736, recall 0.922\n",
      "Round 300 cost: train 0.292 / test 0.601\n",
      " precision 0.783, recall 0.903\n",
      "Round 400 cost: train 0.295 / test 0.646\n",
      " precision 0.759, recall 0.919\n",
      "Round 500 cost: train 0.188 / test 0.571\n",
      " precision 0.929, recall 0.751\n",
      "Round 600 cost: train 0.097 / test 0.517\n",
      " precision 0.904, recall 0.874\n",
      "Round 700 cost: train 0.089 / test 0.541\n",
      " precision 0.898, recall 0.875\n",
      "Round 800 cost: train 0.170 / test 0.627\n",
      " precision 0.807, recall 0.919\n",
      "Round 900 cost: train 0.081 / test 0.578\n",
      " precision 0.894, recall 0.880\n",
      "Round 1000 cost: train 0.087 / test 0.576\n",
      " precision 0.894, recall 0.895\n",
      "Round 1100 cost: train 0.084 / test 0.662\n",
      " precision 0.911, recall 0.876\n",
      "Round 1200 cost: train 0.074 / test 0.645\n",
      " precision 0.888, recall 0.906\n",
      "Round 1300 cost: train 0.088 / test 0.654\n",
      " precision 0.912, recall 0.858\n",
      "Round 1400 cost: train 0.128 / test 0.602\n",
      " precision 0.820, recall 0.923\n",
      "Round 1500 cost: train 0.127 / test 0.697\n",
      " precision 0.915, recall 0.822\n",
      "Round 1600 cost: train 0.100 / test 0.573\n",
      " precision 0.914, recall 0.802\n",
      "Round 1700 cost: train 0.066 / test 0.654\n",
      " precision 0.912, recall 0.876\n",
      "Round 1800 cost: train 0.081 / test 0.671\n",
      " precision 0.920, recall 0.861\n",
      "Round 1900 cost: train 0.064 / test 0.663\n",
      " precision 0.917, recall 0.874\n",
      "Round 2000 cost: train 0.047 / test 0.627\n",
      " precision 0.906, recall 0.905\n",
      "Round 2100 cost: train 0.121 / test 0.724\n",
      " precision 0.913, recall 0.827\n",
      "Round 2200 cost: train 0.179 / test 0.785\n",
      " precision 0.922, recall 0.799\n",
      "Round 2300 cost: train 0.057 / test 0.690\n",
      " precision 0.909, recall 0.878\n",
      "Round 2400 cost: train 0.045 / test 0.679\n",
      " precision 0.915, recall 0.894\n",
      "Round 2500 cost: train 0.040 / test 0.670\n",
      " precision 0.903, recall 0.904\n",
      "Round 2600 cost: train 0.054 / test 0.666\n",
      " precision 0.896, recall 0.910\n",
      "Round 2700 cost: train 0.046 / test 0.650\n",
      " precision 0.907, recall 0.895\n",
      "Round 2800 cost: train 0.039 / test 0.680\n",
      " precision 0.908, recall 0.900\n",
      "Round 2900 cost: train 0.043 / test 0.692\n",
      " precision 0.910, recall 0.886\n",
      "\n",
      "time: 841.37 s\n"
     ]
    }
   ],
   "source": [
    "learning_rate = 0.3\n",
    "batch_size = 100\n",
    "epochs = 3000\n",
    "print_cost_every = 100\n",
    "\n",
    "feed_train = {inputs: inputs_train, labels: labels_train}\n",
    "feed_test = {inputs: inputs_test, labels: labels_test}\n",
    "\n",
    "sess = tf.Session()\n",
    "sess.run(tf.global_variables_initializer())\n",
    "train_step = tf.train.GradientDescentOptimizer(learning_rate).minimize(cost)\n",
    "\n",
    "costs_train = []\n",
    "costs_test = []\n",
    "start_time = time.time()\n",
    "\n",
    "num_inputs = len(labels_train)\n",
    "order = np.arange(num_inputs)\n",
    "np.random.shuffle(order)\n",
    "\n",
    "try:\n",
    "    for i in range(epochs):\n",
    "        if i % print_cost_every == 0:\n",
    "            cost_train = sess.run(cost, feed_dict=feed_train)\n",
    "            cost_test = sess.run(cost, feed_dict=feed_test)\n",
    "            print('Epoch {:03d} cost: train {:.3f} / test {:.3f}'.format(\n",
    "                i, cost_train, cost_test))\n",
    "            costs_train.append(cost_train)\n",
    "            costs_test.append(cost_test)\n",
    "            evaluate_model(sess, inputs_test, labels_test)\n",
    "\n",
    "        for j in range(0, num_inputs, batch_size):\n",
    "            batch_index = order[j: j + batch_size]\n",
    "            batch_inputs = inputs_train[batch_index]\n",
    "            batch_labels = labels_train[batch_index]\n",
    "            batch_feed = {inputs: batch_inputs, labels: batch_labels}\n",
    "            sess.run(train_step, feed_dict=batch_feed)\n",
    "except KeyboardInterrupt:\n",
    "    print('Interrupted')\n",
    "finally:\n",
    "    end_time = time.time()\n",
    "    print('\\ntime: {:.2f} s'.format(end_time - start_time))"
   ]
  },
  {
   "cell_type": "code",
   "execution_count": 16,
   "metadata": {
    "collapsed": false,
    "deletable": true,
    "editable": true
   },
   "outputs": [
    {
     "data": {
      "image/png": "[encoded data removed]",
      "text/plain": [
       "<matplotlib.figure.Figure at 0x7fbda90ea630>"
      ]
     },
     "metadata": {},
     "output_type": "display_data"
    }
   ],
   "source": [
    "plt.plot(costs_train, label='train cost')\n",
    "plt.plot(costs_test, label='test cost')\n",
    "plt.legend();"
   ]
  },
  {
   "cell_type": "markdown",
   "metadata": {
    "deletable": true,
    "editable": true
   },
   "source": [
    "### 评估\n",
    "\n",
    "* 使用 tf 内置的 tf.confusion_matrix 方法"
   ]
  },
  {
   "cell_type": "code",
   "execution_count": 17,
   "metadata": {
    "collapsed": false,
    "deletable": true,
    "editable": true
   },
   "outputs": [
    {
     "name": "stdout",
     "output_type": "stream",
     "text": [
      "\n",
      "** train set **\n",
      " confusion matrix:\n",
      " [[12927    76]\n",
      " [  276 11307]]\n",
      " precision 0.993, recall 0.976\n",
      "\n",
      "** test set **\n",
      " confusion matrix:\n",
      " [[5154  419]\n",
      " [ 531 4434]]\n",
      " precision 0.914, recall 0.893\n"
     ]
    }
   ],
   "source": [
    "print('\\n** train set **')\n",
    "evaluate_model(sess, inputs_train, labels_train, print_matrix=True)\n",
    "print('\\n** test set **')\n",
    "evaluate_model(sess, inputs_test, labels_test, print_matrix=True)"
   ]
  },
  {
   "cell_type": "markdown",
   "metadata": {
    "deletable": true,
    "editable": true
   },
   "source": [
    "### ChangeLog\n",
    "\n",
    "* v0: \n",
    "  * 句长 20, 词向量维数 25, 无附加隐层, 随机梯度下降, 步长 0.003\n",
    "  * 训练时间约 15 min\n",
    "  * [test] precision: 0.7946, recall: 0.8834\n",
    "* v0a:\n",
    "  * v0 -> 词向量维数改为 100\n",
    "  * precision: 0.8034, recall: 0.8363 \n",
    "    * 奇怪 怎么比 v0 还下降了, 可能是随机性吧\n",
    "* v1:\n",
    "  * v0 -> 词向量维数 25, 增加一个隐层(25节点)\n",
    "  * 训练时间 1h+\n",
    "  * [test] precision: 0.9071, recall: 0.9007\n",
    "  * 比朴素贝叶斯有明显提高\n",
    "* v1a:\n",
    "  * 看 cost 曲线, 怀疑有过拟合.\n",
    "  * v1 -> 词向量维数和隐层节点数 25 -> 15\n",
    "  * [test] precision: 0.8574, recall: 0.9275\n",
    "* v1b:\n",
    "  * v1 -> 句子长度 20 -> 40\n",
    "  * [test] precision: 0.8493, recall: 0.5652\n",
    "  * 句子长度增大, recall 反倒出了问题. \n",
    "    * 经检查, 原长度 < 20的句子, 训练集 recall 只有 0.25 左右\n",
    "    * 猜测是增加太多的 padding 干扰了有效信息\n",
    "    * 寻找最优的句子长度值?\n",
    "* v1c:\n",
    "  * v1 -> 词向量维数和隐层节点数 25 -> 40\n",
    "  * 训练时间相比 v1 没有显著变化\n",
    "  * [train] precision: 0.8887, recall: 0.9876\n",
    "  * [test] precision: 0.8175, recall: 0.9212\n",
    "  * cost 曲线波动性很大, 是否模型还未稳定收敛? 迭代步再加大可能好点?\n",
    "* v1c1:\n",
    "  * v1c -> 迭代步数 500 -> 1500, 步长 0.003 -> 0.002\n",
    "  * [train] precision: 0.9390, recall: 0.9852\n",
    "  * [test] precision: 0.8589, recall: 0.9120\n",
    "* v1d:\n",
    "  * v1 -> 词向量维数和隐层节点数 25 -> 15\n",
    "  * [train] precision: 0.9931, recall: 0.9645\n",
    "  * [test] precision: 0.9197, recall: 0.8810\n",
    "* v2:\n",
    "  * v1d -> 改为小批量梯度下降\n",
    "  * 收敛时间明显缩短, 从 2-3 小时减少至不到半小时\n",
    "* 有时间或考虑改进:\n",
    "  * 正则化?\n",
    "  * 寻找最优句子长度\n",
    "  * 不同的隐层激活函数?"
   ]
  }
 ],
 "metadata": {
  "kernelspec": {
   "display_name": "Python 3",
   "language": "python",
   "name": "python3"
  },
  "language_info": {
   "codemirror_mode": {
    "name": "ipython",
    "version": 3
   },
   "file_extension": ".py",
   "mimetype": "text/x-python",
   "name": "python",
   "nbconvert_exporter": "python",
   "pygments_lexer": "ipython3",
   "version": "3.4.3"
  }
 },
 "nbformat": 4,
 "nbformat_minor": 2
}

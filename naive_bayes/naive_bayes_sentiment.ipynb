{
 "cells": [
  {
   "cell_type": "markdown",
   "metadata": {
    "deletable": true,
    "editable": true
   },
   "source": [
    "## 朴素贝叶斯法实现文本情感分类"
   ]
  },
  {
   "cell_type": "code",
   "execution_count": 1,
   "metadata": {
    "collapsed": false,
    "deletable": true,
    "editable": true
   },
   "outputs": [],
   "source": [
    "from collections import Counter\n",
    "from math import log\n",
    "import jieba\n",
    "\n",
    "# (neg, pos) 的分类标记取为 (0, 1)，与各列表索引对应\n",
    "train_files = ['_corpus/neg_train.txt', '_corpus/pos_train.txt']\n",
    "test_files = ['_corpus/neg_test.txt', '_corpus/pos_test.txt']\n",
    "\n",
    "def read_lines(file):\n",
    "    with open(file, encoding='utf-8') as f:\n",
    "        lines = f.readlines()\n",
    "    return [line.strip() for line in lines]"
   ]
  },
  {
   "cell_type": "markdown",
   "metadata": {
    "deletable": true,
    "editable": true
   },
   "source": [
    "### 1. 依据训练集建立模型\n",
    "\n",
    "#### 1.1 计算先验概率"
   ]
  },
  {
   "cell_type": "code",
   "execution_count": 2,
   "metadata": {
    "collapsed": false,
    "deletable": true,
    "editable": true,
    "scrolled": true
   },
   "outputs": [
    {
     "data": {
      "text/plain": [
       "[0.5288782233791589, 0.47112177662084115]"
      ]
     },
     "execution_count": 2,
     "metadata": {},
     "output_type": "execute_result"
    }
   ],
   "source": [
    "nums = [len(read_lines(train_files[c])) for c in (0, 1)]\n",
    "prior = [nums[c]/sum(nums) for c in (0, 1)]  # 先验概率 neg, pos\n",
    "prior"
   ]
  },
  {
   "cell_type": "markdown",
   "metadata": {
    "deletable": true,
    "editable": true
   },
   "source": [
    "#### 1.2 计算条件概率"
   ]
  },
  {
   "cell_type": "code",
   "execution_count": 3,
   "metadata": {
    "collapsed": false,
    "deletable": true,
    "editable": true
   },
   "outputs": [
    {
     "name": "stderr",
     "output_type": "stream",
     "text": [
      "Building prefix dict from the default dictionary ...\n",
      "Loading model from cache /tmp/jieba.cache\n",
      "Loading model cost 0.745 seconds.\n",
      "Prefix dict has been built succesfully.\n"
     ]
    }
   ],
   "source": [
    "def get_count_and_vocab(files=train_files):\n",
    "    \"\"\"读取训练数据，得到不同类别下的计数及词表\"\"\"\n",
    "    count = [Counter(), Counter()]  # 计数：neg, pos\n",
    "    vocab = set()  # 词表\n",
    "    for c in (0, 1):\n",
    "        for line in read_lines(files[c]):\n",
    "            for word in jieba.cut(line):\n",
    "                count[c][word] += 1\n",
    "                vocab.add(word)\n",
    "    return count, vocab\n",
    "\n",
    "def to_log_prob(count, vocab):\n",
    "    \"\"\"将计数转换为条件概率，采用 Laplace add1 平滑\"\"\"\n",
    "    log_conditional = [Counter(), Counter()]  # neg, pos\n",
    "    vsize = len(vocab)\n",
    "    for c in (0, 1):\n",
    "        total = sum(count[c].values())\n",
    "        for word in vocab:  # 这里必须是 vocab 而不是 count[c].keys()\n",
    "            log_conditional[c][word] = log(count[c][word] + 1) - log(total + vsize)\n",
    "    return log_conditional\n",
    "\n",
    "count, vocab = get_count_and_vocab()\n",
    "log_conditional = to_log_prob(count, vocab)"
   ]
  },
  {
   "cell_type": "markdown",
   "metadata": {
    "deletable": true,
    "editable": true
   },
   "source": [
    "### 2. 对测试集数据进行分类预测\n"
   ]
  },
  {
   "cell_type": "code",
   "execution_count": 4,
   "metadata": {
    "collapsed": false,
    "deletable": true,
    "editable": true
   },
   "outputs": [],
   "source": [
    "def cal_joint_prob(docu, c):\n",
    "    \"\"\"计算文本 docu 与分类 c 的联合概率(取对数)\"\"\"\n",
    "    log_joint_prob = log(prior[c])\n",
    "    words = jieba.cut(docu)\n",
    "    for word in words:\n",
    "        if word in vocab:  # 参考 slp ch6.2, 仅考虑（训练集）词表内的词\n",
    "            log_joint_prob += log_conditional[c][word]\n",
    "    return log_joint_prob\n",
    "\n",
    "def classify(docu):\n",
    "    \"\"\"对文本 docu 进行分类\"\"\"\n",
    "    prob = [cal_joint_prob(docu, c) for c in (0, 1)]\n",
    "    return 1 if prob[1] > prob[0] else 0\n",
    "\n",
    "results = [[], []]  # 分类结果 neg, pos\n",
    "for c in (0, 1):\n",
    "    for line in read_lines(test_files[c]):\n",
    "        results[c].append(classify(line))"
   ]
  },
  {
   "cell_type": "markdown",
   "metadata": {
    "deletable": true,
    "editable": true
   },
   "source": [
    "### 3. 评估测试分类结果"
   ]
  },
  {
   "cell_type": "code",
   "execution_count": 5,
   "metadata": {
    "collapsed": false,
    "deletable": true,
    "editable": true
   },
   "outputs": [
    {
     "name": "stdout",
     "output_type": "stream",
     "text": [
      "    n=10538     predicted:neg  predicted:pos \n",
      "  actual:neg        4851            722      \n",
      "  actual:pos        1095           3870      \n",
      "\n",
      "precision = 0.843, recall = 0.779, f_measure = 0.810\n"
     ]
    }
   ],
   "source": [
    "total = len(results[0]) + len(results[1])\n",
    "neg_test_counter, pos_test_counter = Counter(results[0]), Counter(results[1])\n",
    "true_pos = pos_test_counter[1]\n",
    "false_pos = neg_test_counter[1]\n",
    "true_neg = neg_test_counter[0]\n",
    "false_neg = pos_test_counter[0]\n",
    "\n",
    "# 混淆矩阵\n",
    "confusion_matrix = ('\\n'.join(['{:^15}' * 3] * 3)).format(\n",
    "    'n='+str(total), 'predicted:neg', 'predicted:pos',\n",
    "    'actual:neg', true_neg, false_pos,\n",
    "    'actual:pos', false_neg, true_pos)\n",
    "print(confusion_matrix)\n",
    "\n",
    "# 评价指标：precision, recall, f_measure\n",
    "precision = true_pos / (true_pos + false_pos)\n",
    "recall = true_pos / (true_pos + false_neg)\n",
    "f_measure = 2 * precision * recall / (precision + recall)\n",
    "print(('\\nprecision = {:.3f}, recall = {:.3f}, f_measure = {:.3f}').format(\n",
    "    precision, recall, f_measure))"
   ]
  }
 ],
 "metadata": {
  "kernelspec": {
   "display_name": "Python 3",
   "language": "python",
   "name": "python3"
  },
  "language_info": {
   "codemirror_mode": {
    "name": "ipython",
    "version": 3
   },
   "file_extension": ".py",
   "mimetype": "text/x-python",
   "name": "python",
   "nbconvert_exporter": "python",
   "pygments_lexer": "ipython3",
   "version": "3.4.3"
  }
 },
 "nbformat": 4,
 "nbformat_minor": 2
}

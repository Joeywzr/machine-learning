{
 "cells": [
  {
   "cell_type": "markdown",
   "metadata": {
    "deletable": true,
    "editable": true
   },
   "source": [
    "## 文本摘要任务: 数据预处理\n",
    "\n",
    "数据来源: [搜狗实验室（Sogou Labs）- 搜狐新闻数据](http://www.sogou.com/labs/resource/cs.php)"
   ]
  },
  {
   "cell_type": "code",
   "execution_count": 2,
   "metadata": {
    "collapsed": true,
    "deletable": true,
    "editable": true
   },
   "outputs": [],
   "source": [
    "import re\n",
    "from urllib.parse import urlparse \n",
    "from collections import Counter"
   ]
  },
  {
   "cell_type": "code",
   "execution_count": 2,
   "metadata": {
    "collapsed": false,
    "deletable": true,
    "editable": true
   },
   "outputs": [
    {
     "name": "stdout",
     "output_type": "stream",
     "text": [
      "total 5048284\r\n",
      "-rw-r--r-- 1 root root      10374 May 12  2017 data.ipynb\r\n",
      "-rw-r--r-- 1 root root          0 May 12  2017 dev_contents.txt\r\n",
      "-rw-r--r-- 1 root root          0 May 12  2017 dev_titles.txt\r\n",
      "-rw-r--r-- 1 root root 1537763850 May 10  2017 news_sohusite_xml.dat\r\n",
      "-rw-r--r-- 1 root root     229888 Aug 15  2012 news_sohusite_xml.smarty.dat\r\n",
      "-rw-r--r-- 1 root root 1538501754 May 10  2017 news_tensite_xml.dat\r\n",
      "-rw-r--r-- 1 root root     218029 May 10  2017 news_tensite_xml.smarty.dat\r\n",
      "-rw-r--r-- 1 root root 1878985341 May 10  2017 raw_contents.txt\r\n",
      "-rw-r--r-- 1 root root     286060 May 11  2017 raw_contents_s.txt\r\n",
      "-rw-r--r-- 1 root root  118695671 May 10  2017 raw_titles.txt\r\n",
      "-rw-r--r-- 1 root root      17720 May 11  2017 raw_titles_s.txt\r\n",
      "-rw-r--r-- 1 root root   94713250 May 11  2017 raw_urls.txt\r\n",
      "-rw-r--r-- 1 root root          0 May 12  2017 test_contents.txt\r\n",
      "-rw-r--r-- 1 root root          0 May 12  2017 test_titles.txt\r\n",
      "-rw-r--r-- 1 root root          0 May 12  2017 train_contents.txt\r\n",
      "-rw-r--r-- 1 root root          0 May 12  2017 train_titles.txt\r\n"
     ]
    }
   ],
   "source": [
    "!ls -l"
   ]
  },
  {
   "cell_type": "markdown",
   "metadata": {
    "deletable": true,
    "editable": true
   },
   "source": [
    "在命令行下转换编码并分别提取出 content 和 title:\n",
    "\n",
    "```\n",
    "cd \\^data\n",
    "cat news_sohusite_xml.dat | iconv -f gb18030 -t utf-8 | grep \"<contenttitle>\" > raw_titles.txt\n",
    "cat news_sohusite_xml.dat | iconv -f gb18030 -t utf-8 | grep \"<content>\" > raw_contents.txt\n",
    "cat news_sohusite_xml.dat | iconv -f gb18030 -t utf-8 | grep \"<url>\" > raw_urls.txt\n",
    "```"
   ]
  },
  {
   "cell_type": "code",
   "execution_count": 6,
   "metadata": {
    "collapsed": false,
    "deletable": true,
    "editable": true
   },
   "outputs": [
    {
     "name": "stdout",
     "output_type": "stream",
     "text": [
      "1411996\n"
     ]
    }
   ],
   "source": [
    "with open('raw_titles.txt', encoding='utf-8') as f:\n",
    "    num_examples = 0\n",
    "    for line in f:\n",
    "        num_examples += 1\n",
    "\n",
    "print(num_examples)"
   ]
  },
  {
   "cell_type": "markdown",
   "metadata": {
    "deletable": true,
    "editable": true
   },
   "source": [
    "搜狐新闻数据总数为 1411996"
   ]
  },
  {
   "cell_type": "markdown",
   "metadata": {
    "deletable": true,
    "editable": true
   },
   "source": [
    "### 处理 raw 文本, 并划分为 train/dev/test\n",
    "\n",
    "* 去除行首行末的 xml 标签\n",
    "* 去除特殊字符 `\\u3000` 和 `\\ue40c`\n",
    "* [x] 全角数字和英文转换为半角\n",
    "* 去除括号内字符 (xx) [xx]\n",
    "* 过滤掉长度过大的"
   ]
  },
  {
   "cell_type": "code",
   "execution_count": 7,
   "metadata": {
    "collapsed": false,
    "deletable": true,
    "editable": true
   },
   "outputs": [],
   "source": [
    "raw_contents_file = 'raw_contents.txt'\n",
    "raw_titles_file = 'raw_titles.txt'\n",
    "raw_urls_file = 'raw_urls.txt'\n",
    "\n",
    "num_train_raw = 1200000\n",
    "num_dev_raw = 100000\n",
    "num_test_raw = 100000\n",
    "assert num_train_raw + num_dev_raw + num_test_raw <= num_examples, 'Not enough examples.'"
   ]
  },
  {
   "cell_type": "markdown",
   "metadata": {
    "deletable": true,
    "editable": true
   },
   "source": [
    "根据 url 判断新闻类别. 映射关系: http://download.labs.sogou.com/dl/sogoulabdown/categories_2012.txt\n",
    "<- 实际的 url 跟此链接里给的不同."
   ]
  },
  {
   "cell_type": "code",
   "execution_count": 8,
   "metadata": {
    "collapsed": true,
    "deletable": true,
    "editable": true
   },
   "outputs": [],
   "source": [
    "cnt = Counter()\n",
    "\n",
    "with open(raw_urls_file, encoding='utf-8') as f:\n",
    "    for line in f:\n",
    "        line = re.sub('<.{3,4}>', '', line)\n",
    "        netloc = urlparse(line).netloc\n",
    "        cnt[netloc] += 1"
   ]
  },
  {
   "cell_type": "code",
   "execution_count": 14,
   "metadata": {
    "collapsed": false,
    "deletable": true,
    "editable": true
   },
   "outputs": [
    {
     "data": {
      "text/plain": [
       "[('roll.sohu.com', 720957),\n",
       " ('product.it.sohu.com', 176727),\n",
       " ('news.sohu.com', 70900),\n",
       " ('db.auto.sohu.com', 56275),\n",
       " ('sports.sohu.com', 38281),\n",
       " ('stock.sohu.com', 36968),\n",
       " ('pic.yule.sohu.com', 27371),\n",
       " ('business.sohu.com', 26179),\n",
       " ('dealer.auto.sohu.com', 25663),\n",
       " ('saa.auto.sohu.com', 19671),\n",
       " ('q.stock.sohu.com', 13814),\n",
       " ('yule.sohu.com', 12779),\n",
       " ('drug.health.sohu.com', 11480),\n",
       " ('haodf.health.sohu.com', 10890),\n",
       " ('it.sohu.com', 10797),\n",
       " ('pic.news.sohu.com', 9529),\n",
       " ('s.sohu.com', 8678),\n",
       " ('data.yule.sohu.com', 8071),\n",
       " ('money.sohu.com', 7263),\n",
       " ('daxue.learning.sohu.com', 7021),\n",
       " ('auto.sohu.com', 6843),\n",
       " ('vip.book.sohu.com', 6009),\n",
       " ('learning.sohu.com', 5570),\n",
       " ('zone.it.sohu.com', 5132),\n",
       " ('digi.it.sohu.com', 4039),\n",
       " ('q.fund.sohu.com', 3883),\n",
       " ('picture.auto.sohu.com', 3567),\n",
       " ('goche.auto.sohu.com', 3469),\n",
       " ('db.money.sohu.com', 2766),\n",
       " ('baobao.sohu.com', 2560),\n",
       " ('baodian.women.sohu.com', 2534),\n",
       " ('club.mil.news.sohu.com', 2346),\n",
       " ('t.stock.sohu.com', 1933),\n",
       " ('women.sohu.com', 1888),\n",
       " ('star.news.sohu.com', 1726),\n",
       " ('music.yule.sohu.com', 1626),\n",
       " ('youxi.sports.sohu.com', 1568),\n",
       " ('jingqu.travel.sohu.com', 1548),\n",
       " ('gd.sohu.com', 1521),\n",
       " ('tianjin.auto.sohu.com', 1491)]"
      ]
     },
     "execution_count": 14,
     "metadata": {},
     "output_type": "execute_result"
    }
   ],
   "source": [
    "# 语料来源\n",
    "cnt.most_common(40)"
   ]
  },
  {
   "cell_type": "markdown",
   "metadata": {
    "deletable": true,
    "editable": true
   },
   "source": [
    "`roll.sohu.com`, `news.sohu.com` 都是比较常规的新闻"
   ]
  },
  {
   "cell_type": "code",
   "execution_count": 29,
   "metadata": {
    "collapsed": false,
    "deletable": true,
    "editable": true
   },
   "outputs": [],
   "source": [
    "def count_hanzi(text):\n",
    "    count = 0\n",
    "    for char in text:\n",
    "        if '\\u4e00' <= char <= '\\u9fff':\n",
    "            count += 1\n",
    "    return count\n",
    "\n",
    "\n",
    "def process(text):\n",
    "    def full2half(text):\n",
    "        result = ''\n",
    "        length = 0\n",
    "        for char in text:\n",
    "            if char == '\\u3000':  # 全角空格\n",
    "                char = ' '\n",
    "            elif char == '\\ue40c':  # 全角换行符?\n",
    "                char = ''\n",
    "            elif '\\uff01' <= char <= '\\uff5e':\n",
    "                char = chr(ord(char) - 0xfee0)\n",
    "            result += char\n",
    "        return result\n",
    "\n",
    "    text = full2half(text)\n",
    "    text = re.sub('[<\\[\\(].{0,30}?[>\\]\\)]', '', text)\n",
    "    return text\n",
    "\n",
    "\n",
    "def prepare_data(start_line, num_lines, contents_file, titles_file, max_content_length=200):\n",
    "    contents_reader = open(raw_contents_file, encoding='utf-8')\n",
    "    titles_reader = open(raw_titles_file, encoding='utf-8')\n",
    "    urls_reader = open(raw_urls_file, encoding='utf-8')\n",
    "    \n",
    "    contents_writer = open(contents_file, 'w', encoding='utf-8')\n",
    "    titles_writer = open(titles_file, 'w', encoding='utf-8')\n",
    "\n",
    "    for i in range(start_line):\n",
    "        contents_reader.readline()\n",
    "        titles_reader.readline()\n",
    "        url = urls_reader.readline()\n",
    "\n",
    "    written = 0  # 记录写入的行数\n",
    "    for i in range(start_line, start_line + num_lines):\n",
    "        content = contents_reader.readline()\n",
    "        title = titles_reader.readline()\n",
    "        url = urls_reader.readline().strip()\n",
    "        \n",
    "        if len(content) > max_content_length:\n",
    "            continue\n",
    "        \n",
    "        url = re.sub('<.{3,4}>', '', url)\n",
    "        netloc = urlparse(url).netloc\n",
    "        if netloc == 'roll.sohu.com':\n",
    "            content = process(content)\n",
    "            title = process(title)\n",
    "            if len(content) >= 15 and count_hanzi(title) >= 7:\n",
    "                contents_writer.write(content)\n",
    "                titles_writer.write(title)\n",
    "                written += 1\n",
    "\n",
    "    # 打印出最后一行, 检验是否对齐\n",
    "    print(content, title, url)\n",
    "\n",
    "    contents_reader.close()\n",
    "    titles_reader.close()\n",
    "    urls_reader.close()\n",
    "    \n",
    "    contents_writer.close()\n",
    "    titles_writer.close()\n",
    "\n",
    "    return written"
   ]
  },
  {
   "cell_type": "code",
   "execution_count": 30,
   "metadata": {
    "collapsed": false,
    "deletable": true,
    "editable": true,
    "scrolled": false
   },
   "outputs": [
    {
     "name": "stdout",
     "output_type": "stream",
     "text": [
      "<content>产品系列：华硕　Ｎ８０系列屏幕尺寸：１４．１英寸ＣＰＵ型号：Ｉｎｔｅｌ　酷睿２双核　Ｔ６４００ＣＰＵ主频：２０００ＭＨｚ内存容量：２ＧＢ硬盘容量：３２０ＧＢ显卡芯片：ＮＶＩＤＩＡ　ＧｅＦｏｒｃｅ　９３００Ｍ　Ｇ操作系统：Ｗｉｎｄｏｗｓ　Ｖｉｓｔ　更多参数＞＞</content>\n",
      " <contenttitle>￥４９００</contenttitle>\n",
      " http://product.it.sohu.com/search/subcategoryid=16&manuid=227&seriesid[]=5026&seriesid[]=3937&seriesid[]=7310\n",
      "<content>经销商　型号　经销商报价　经销商信息万利达　ＭＪＳ－４８Ｅ联系电话：０１０－８２８５２５１４　８２８５１２８５手机号码：１３８１０７９０３１０　１３８１０５０７４４３店铺地址：北京硅谷电脑城５层５１８－５２４室</content>\n",
      " <contenttitle>万利达　ＭＪＳ－４８Ｅ</contenttitle>\n",
      " http://product.it.sohu.com/detail/188099_price.html\n",
      "<content>７月１０日，在浙江乐清一趟７路公交车上，一名年轻男子突然癫痫病发作，两眼翻白，手脚抽搐。公交车司机董师傅赶紧将车停在路边，扶着发病男子平躺在公交车过道上。看着躺在地上的男子，乘客似乎有所顾虑。董师傅说：“我车里有监控，说什么都能听到，大家尽管救。”随后，乘客开始上前帮忙。在一车人的全力救护下，司机一路闯红灯，将发病男子送到了医院。感慨善良之心仍在只是环境变了＠近水楼台：说到底，还是这个社会阴暗的一面让人们遇到突发事件变得更加小心，不敢伸手了！＠林朝霞：想做好事，又怕惹祸上身。唉，地球太危险！＠璇：救人之前还要犹豫，因为不知道这一秒救了人，下一秒会不会被告上法庭。＠大粤新闻：请保持自己的善心，请不要对躺在路边的人过于畏惧，如果每个人都如此冷漠，那么，当你自己倒下去的时候，你会发现，这就是自己一手造成的冷漠。＠董应群－比多：善良的心仍在，只是环境变了。＠一片冰心在茶壶：做好事怕带来严重的后果，结果就是导致没人做好事。没人做好事的社会是一个堕落的社会，一个堕落的社会是不能教化人们做好事的！思考健全保障制度提倡见义勇为＠廖清华：人人皆有举善之心，但残酷的现实束缚了我们原本很容易伸出的援助之手。这个案例中的病人，偶然得益于事发地的一个摄像头，如果没有它，我们拿什么拯救一个处于突发事件中的弱者呢？＠猴儿妈ｏｕｔｗｏｍａｎ：事实再次证明制度对见义勇为的基础性作用。没有好的、有效的制度，一味指望善良人做善良事，让英雄流血又流泪，谁还会做好事？只要能得到保障，人们善的本能就会迸发出来。＠时间：一个社会的良心要靠监控才能被看见，这是科技的进步，还是道德的后退？＠于静波：假如没有监控，还会有人毫不犹豫地出手援救吗？其实，每个人都是有爱心的，只不过现在是一个道德信任出现危机的时代，只有实施相关法律，多建立一些技术证明手段，才能保证人们可以毫无后顾之忧地助人为乐。乱弹人之初性本善没监控难施展＠最美的意外：监控对中国人来说，就是见义勇为的精神支柱啊！＠鱼儿曾：救人有风险，下手需谨慎。司机大叔，智慧啊！＠云泽大森：科学技术规避了麻烦，激发了善举。事实再次证明，科学技术是第一生产力！</content>\n",
      " <contenttitle>监控给你作证尽管放心救人</contenttitle>\n",
      " <url>http://roll.sohu.com/20120717/n348302782.shtml</url>\n"
     ]
    },
    {
     "data": {
      "text/plain": [
       "(113925, 9210, 10326)"
      ]
     },
     "execution_count": 30,
     "metadata": {},
     "output_type": "execute_result"
    }
   ],
   "source": [
    "num_train = prepare_data(0, num_train_raw, 'train_contents.txt', 'train_titles.txt')\n",
    "num_dev = prepare_data(num_train_raw + 1, num_dev_raw, 'dev_contents.txt', 'dev_titles.txt')\n",
    "num_test = prepare_data(num_train_raw + num_dev_raw + 1, num_test_raw, 'test_contents.txt', 'test_titles.txt')\n",
    "\n",
    "num_train, num_dev, num_test"
   ]
  },
  {
   "cell_type": "markdown",
   "metadata": {
    "deletable": true,
    "editable": true
   },
   "source": [
    "筛选条件: \n",
    "- 处理前的正文字数 <= 200\n",
    "- 处理后的正文字数 >= 15\n",
    "- 处理后的标题中 中文字数 >= 7\n",
    "- 只选 roll.sohu.com 的"
   ]
  },
  {
   "cell_type": "markdown",
   "metadata": {
    "deletable": true,
    "editable": true
   },
   "source": [
    "### 另: 搜狐 \"全网新闻数据\"\n",
    "http://www.sogou.com/labs/resource/ca.php"
   ]
  },
  {
   "cell_type": "code",
   "execution_count": 1,
   "metadata": {
    "collapsed": false,
    "deletable": true,
    "editable": true
   },
   "outputs": [
    {
     "name": "stdout",
     "output_type": "stream",
     "text": [
      "1294233\n"
     ]
    }
   ],
   "source": [
    "with open('raw_titles_tensite.txt', encoding='utf-8') as f:\n",
    "    num_examples_tensite = 0\n",
    "    for line in f:\n",
    "        num_examples_tensite += 1\n",
    "\n",
    "print(num_examples_tensite)"
   ]
  },
  {
   "cell_type": "markdown",
   "metadata": {
    "deletable": true,
    "editable": true
   },
   "source": [
    "全网新闻数据总数为 1294233"
   ]
  },
  {
   "cell_type": "code",
   "execution_count": 12,
   "metadata": {
    "collapsed": false,
    "deletable": true,
    "editable": true
   },
   "outputs": [],
   "source": [
    "cnt_ten = Counter()\n",
    "\n",
    "with open('raw_urls_tensite.txt', encoding='utf-8') as f:\n",
    "    for line in f:\n",
    "        line = re.sub('<.{3,4}>', '', line)\n",
    "        netloc = urlparse(line).netloc\n",
    "        cnt_ten[netloc] += 1"
   ]
  },
  {
   "cell_type": "code",
   "execution_count": 15,
   "metadata": {
    "collapsed": false,
    "deletable": true,
    "editable": true
   },
   "outputs": [
    {
     "data": {
      "text/plain": [
       "[('news.163.com', 209076),\n",
       " ('news.sohu.com', 85454),\n",
       " ('www.people.com.cn', 71087),\n",
       " ('henan.people.com.cn', 57003),\n",
       " ('news.cn.yahoo.com', 52484),\n",
       " ('ent.cn.yahoo.com', 44567),\n",
       " ('sports.cn.yahoo.com', 34435),\n",
       " ('finance.people.com.cn', 29574),\n",
       " ('world.people.com.cn', 25347),\n",
       " ('ha.people.com.cn', 24051),\n",
       " ('sports.people.com.cn', 21635),\n",
       " ('fujian.people.com.cn', 20973),\n",
       " ('haodf.health.people.com.cn', 19378),\n",
       " ('pic.news.sohu.com', 19162),\n",
       " ('cpc.people.com.cn', 18729),\n",
       " ('dfgwy.edu.people.com.cn', 16426),\n",
       " ('politics.people.com.cn', 16346),\n",
       " ('data.fund.people.com.cn', 15211),\n",
       " ('js.people.com.cn', 15098),\n",
       " ('biz.cn.yahoo.com', 14984),\n",
       " ('hi.people.com.cn', 14877),\n",
       " ('cul.cn.yahoo.com', 14077),\n",
       " ('legal.people.com.cn', 14048),\n",
       " ('game.people.com.cn', 13259),\n",
       " ('society.people.com.cn', 12819),\n",
       " ('tv.people.com.cn', 12309),\n",
       " ('lady.cn.yahoo.com', 11949),\n",
       " ('cq.people.com.cn', 10648),\n",
       " ('shipin.people.com.cn', 10638),\n",
       " ('auto.data.people.com.cn', 10214),\n",
       " ('ah.people.com.cn', 10014),\n",
       " ('autos.cn.yahoo.com', 9500),\n",
       " ('ent.people.com.cn', 9461),\n",
       " ('opinion.people.com.cn', 7918),\n",
       " ('gs.people.com.cn', 7827),\n",
       " ('edu.people.com.cn', 7728),\n",
       " ('sn.people.com.cn', 7535),\n",
       " ('digi.cn.yahoo.com', 7492),\n",
       " ('tech.cn.yahoo.com', 7389),\n",
       " ('military.people.com.cn', 6913),\n",
       " ('hainan.people.com.cn', 6811),\n",
       " ('he.people.com.cn', 6724),\n",
       " ('news.ifeng.com', 6056),\n",
       " ('sd.people.com.cn', 5958),\n",
       " ('jx.people.com.cn', 5872),\n",
       " ('ezheng.people.com.cn', 5738),\n",
       " ('culture.people.com.cn', 5675),\n",
       " ('auto.people.com.cn', 5616),\n",
       " ('tw.people.com.cn', 5093),\n",
       " ('yn.people.com.cn', 4987)]"
      ]
     },
     "execution_count": 15,
     "metadata": {},
     "output_type": "execute_result"
    }
   ],
   "source": [
    "# 语料来源\n",
    "cnt_ten.most_common(50)"
   ]
  }
 ],
 "metadata": {
  "kernelspec": {
   "display_name": "Python 3",
   "language": "python",
   "name": "python3"
  },
  "language_info": {
   "codemirror_mode": {
    "name": "ipython",
    "version": 3
   },
   "file_extension": ".py",
   "mimetype": "text/x-python",
   "name": "python",
   "nbconvert_exporter": "python",
   "pygments_lexer": "ipython3",
   "version": "3.4.3"
  },
  "toc": {
   "colors": {
    "hover_highlight": "#DAA520",
    "running_highlight": "#FF0000",
    "selected_highlight": "#FFD700"
   },
   "moveMenuLeft": true,
   "nav_menu": {
    "height": "48px",
    "width": "252px"
   },
   "navigate_menu": true,
   "number_sections": false,
   "sideBar": true,
   "threshold": 4,
   "toc_cell": false,
   "toc_position": {
    "height": "712px",
    "left": "0px",
    "right": "954.375px",
    "top": "65px",
    "width": "136px"
   },
   "toc_section_display": "block",
   "toc_window_display": true,
   "widenNotebook": false
  }
 },
 "nbformat": 4,
 "nbformat_minor": 2
}
